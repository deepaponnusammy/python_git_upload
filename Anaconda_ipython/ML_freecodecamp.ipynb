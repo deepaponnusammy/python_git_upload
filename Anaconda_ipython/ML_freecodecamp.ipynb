{
 "cells": [
  {
   "cell_type": "code",
   "execution_count": 1,
   "id": "362d7c58",
   "metadata": {},
   "outputs": [
    {
     "name": "stderr",
     "output_type": "stream",
     "text": [
      "2022-11-12 18:44:30.849458: I tensorflow/core/platform/cpu_feature_guard.cc:193] This TensorFlow binary is optimized with oneAPI Deep Neural Network Library (oneDNN) to use the following CPU instructions in performance-critical operations:  AVX2 FMA\n",
      "To enable them in other operations, rebuild TensorFlow with the appropriate compiler flags.\n",
      "2022-11-12 18:44:37.326188: W tensorflow/stream_executor/platform/default/dso_loader.cc:64] Could not load dynamic library 'libcudart.so.11.0'; dlerror: libcudart.so.11.0: cannot open shared object file: No such file or directory\n",
      "2022-11-12 18:44:37.326252: I tensorflow/stream_executor/cuda/cudart_stub.cc:29] Ignore above cudart dlerror if you do not have a GPU set up on your machine.\n",
      "2022-11-12 18:44:37.711135: E tensorflow/stream_executor/cuda/cuda_blas.cc:2981] Unable to register cuBLAS factory: Attempting to register factory for plugin cuBLAS when one has already been registered\n",
      "2022-11-12 18:44:55.368859: W tensorflow/stream_executor/platform/default/dso_loader.cc:64] Could not load dynamic library 'libnvinfer.so.7'; dlerror: libnvinfer.so.7: cannot open shared object file: No such file or directory\n",
      "2022-11-12 18:44:55.369378: W tensorflow/stream_executor/platform/default/dso_loader.cc:64] Could not load dynamic library 'libnvinfer_plugin.so.7'; dlerror: libnvinfer_plugin.so.7: cannot open shared object file: No such file or directory\n",
      "2022-11-12 18:44:55.369423: W tensorflow/compiler/tf2tensorrt/utils/py_utils.cc:38] TF-TRT Warning: Cannot dlopen some TensorRT libraries. If you would like to use Nvidia GPU with TensorRT, please make sure the missing libraries mentioned above are installed properly.\n"
     ]
    }
   ],
   "source": [
    "from __future__ import absolute_import, division, print_function, unicode_literals\n",
    "import numpy as np\n",
    "import pandas as pd\n",
    "import matplotlib.pyplot as plt\n",
    "from IPython.display import clear_output\n",
    "from six.moves import urllib\n",
    "import tensorflow.compat as fc\n",
    "import tensorflow as tf"
   ]
  },
  {
   "cell_type": "code",
   "execution_count": 2,
   "id": "902b5e94",
   "metadata": {},
   "outputs": [
    {
     "name": "stdout",
     "output_type": "stream",
     "text": [
      "   survived     sex   age  n_siblings_spouses  parch     fare  class     deck  \\\n",
      "0         0    male  22.0                   1      0   7.2500  Third  unknown   \n",
      "1         1  female  38.0                   1      0  71.2833  First        C   \n",
      "2         1  female  26.0                   0      0   7.9250  Third  unknown   \n",
      "3         1  female  35.0                   1      0  53.1000  First        C   \n",
      "4         0    male  28.0                   0      0   8.4583  Third  unknown   \n",
      "\n",
      "   embark_town alone  \n",
      "0  Southampton     n  \n",
      "1    Cherbourg     n  \n",
      "2  Southampton     y  \n",
      "3  Southampton     n  \n",
      "4   Queenstown     y  \n"
     ]
    }
   ],
   "source": [
    "dftrain = pd.read_csv('train.csv') #train - training data\n",
    "dfeval = pd.read_csv('eval.csv') #eval - testing data\n",
    "print(dftrain.head())\n",
    "y_train = dftrain.pop('survived')\n",
    "y_eval = dfeval.pop('survived')"
   ]
  },
  {
   "cell_type": "code",
   "execution_count": 3,
   "id": "ee2cecac",
   "metadata": {},
   "outputs": [
    {
     "name": "stdout",
     "output_type": "stream",
     "text": [
      "      sex   age  n_siblings_spouses  parch     fare  class     deck  \\\n",
      "0    male  22.0                   1      0   7.2500  Third  unknown   \n",
      "1  female  38.0                   1      0  71.2833  First        C   \n",
      "2  female  26.0                   0      0   7.9250  Third  unknown   \n",
      "3  female  35.0                   1      0  53.1000  First        C   \n",
      "4    male  28.0                   0      0   8.4583  Third  unknown   \n",
      "\n",
      "   embark_town alone  \n",
      "0  Southampton     n  \n",
      "1    Cherbourg     n  \n",
      "2  Southampton     y  \n",
      "3  Southampton     n  \n",
      "4   Queenstown     y  \n"
     ]
    }
   ],
   "source": [
    "print(dftrain.head())# Default shows first 5 entries"
   ]
  },
  {
   "cell_type": "code",
   "execution_count": 4,
   "id": "bb507d1e",
   "metadata": {},
   "outputs": [
    {
     "data": {
      "text/html": [
       "<div>\n",
       "<style scoped>\n",
       "    .dataframe tbody tr th:only-of-type {\n",
       "        vertical-align: middle;\n",
       "    }\n",
       "\n",
       "    .dataframe tbody tr th {\n",
       "        vertical-align: top;\n",
       "    }\n",
       "\n",
       "    .dataframe thead th {\n",
       "        text-align: right;\n",
       "    }\n",
       "</style>\n",
       "<table border=\"1\" class=\"dataframe\">\n",
       "  <thead>\n",
       "    <tr style=\"text-align: right;\">\n",
       "      <th></th>\n",
       "      <th>age</th>\n",
       "      <th>n_siblings_spouses</th>\n",
       "      <th>parch</th>\n",
       "      <th>fare</th>\n",
       "    </tr>\n",
       "  </thead>\n",
       "  <tbody>\n",
       "    <tr>\n",
       "      <th>count</th>\n",
       "      <td>627.000000</td>\n",
       "      <td>627.000000</td>\n",
       "      <td>627.000000</td>\n",
       "      <td>627.000000</td>\n",
       "    </tr>\n",
       "    <tr>\n",
       "      <th>mean</th>\n",
       "      <td>29.631308</td>\n",
       "      <td>0.545455</td>\n",
       "      <td>0.379585</td>\n",
       "      <td>34.385399</td>\n",
       "    </tr>\n",
       "    <tr>\n",
       "      <th>std</th>\n",
       "      <td>12.511818</td>\n",
       "      <td>1.151090</td>\n",
       "      <td>0.792999</td>\n",
       "      <td>54.597730</td>\n",
       "    </tr>\n",
       "    <tr>\n",
       "      <th>min</th>\n",
       "      <td>0.750000</td>\n",
       "      <td>0.000000</td>\n",
       "      <td>0.000000</td>\n",
       "      <td>0.000000</td>\n",
       "    </tr>\n",
       "    <tr>\n",
       "      <th>25%</th>\n",
       "      <td>23.000000</td>\n",
       "      <td>0.000000</td>\n",
       "      <td>0.000000</td>\n",
       "      <td>7.895800</td>\n",
       "    </tr>\n",
       "    <tr>\n",
       "      <th>50%</th>\n",
       "      <td>28.000000</td>\n",
       "      <td>0.000000</td>\n",
       "      <td>0.000000</td>\n",
       "      <td>15.045800</td>\n",
       "    </tr>\n",
       "    <tr>\n",
       "      <th>75%</th>\n",
       "      <td>35.000000</td>\n",
       "      <td>1.000000</td>\n",
       "      <td>0.000000</td>\n",
       "      <td>31.387500</td>\n",
       "    </tr>\n",
       "    <tr>\n",
       "      <th>max</th>\n",
       "      <td>80.000000</td>\n",
       "      <td>8.000000</td>\n",
       "      <td>5.000000</td>\n",
       "      <td>512.329200</td>\n",
       "    </tr>\n",
       "  </tbody>\n",
       "</table>\n",
       "</div>"
      ],
      "text/plain": [
       "              age  n_siblings_spouses       parch        fare\n",
       "count  627.000000          627.000000  627.000000  627.000000\n",
       "mean    29.631308            0.545455    0.379585   34.385399\n",
       "std     12.511818            1.151090    0.792999   54.597730\n",
       "min      0.750000            0.000000    0.000000    0.000000\n",
       "25%     23.000000            0.000000    0.000000    7.895800\n",
       "50%     28.000000            0.000000    0.000000   15.045800\n",
       "75%     35.000000            1.000000    0.000000   31.387500\n",
       "max     80.000000            8.000000    5.000000  512.329200"
      ]
     },
     "execution_count": 4,
     "metadata": {},
     "output_type": "execute_result"
    }
   ],
   "source": [
    "dftrain.describe() # methamatical calculation"
   ]
  },
  {
   "cell_type": "code",
   "execution_count": 5,
   "id": "1619e6a4",
   "metadata": {},
   "outputs": [
    {
     "data": {
      "text/plain": [
       "(627, 9)"
      ]
     },
     "execution_count": 5,
     "metadata": {},
     "output_type": "execute_result"
    }
   ],
   "source": [
    "dftrain.shape # 627 rows, 9 columns"
   ]
  },
  {
   "cell_type": "code",
   "execution_count": 6,
   "id": "09cf412e",
   "metadata": {},
   "outputs": [
    {
     "data": {
      "text/plain": [
       "0    0\n",
       "1    1\n",
       "2    1\n",
       "3    1\n",
       "4    0\n",
       "Name: survived, dtype: int64"
      ]
     },
     "execution_count": 6,
     "metadata": {},
     "output_type": "execute_result"
    }
   ],
   "source": [
    "y_train.head()"
   ]
  },
  {
   "cell_type": "code",
   "execution_count": 7,
   "id": "385b555e",
   "metadata": {},
   "outputs": [
    {
     "data": {
      "text/plain": [
       "<AxesSubplot:>"
      ]
     },
     "execution_count": 7,
     "metadata": {},
     "output_type": "execute_result"
    },
    {
     "data": {
      "image/png": "[encoded data removed]",
      "text/plain": [
       "<Figure size 432x288 with 1 Axes>"
      ]
     },
     "metadata": {
      "needs_background": "light"
     },
     "output_type": "display_data"
    }
   ],
   "source": [
    "dftrain.age.hist(bins=20)"
   ]
  },
  {
   "cell_type": "code",
   "execution_count": 8,
   "id": "472f06c8",
   "metadata": {},
   "outputs": [
    {
     "data": {
      "text/plain": [
       "<AxesSubplot:>"
      ]
     },
     "execution_count": 8,
     "metadata": {},
     "output_type": "execute_result"
    },
    {
     "data": {
      "image/png": "[encoded data removed]",
      "text/plain": [
       "<Figure size 432x288 with 1 Axes>"
      ]
     },
     "metadata": {
      "needs_background": "light"
     },
     "output_type": "display_data"
    }
   ],
   "source": [
    "dftrain.sex.value_counts().plot(kind='barh')"
   ]
  },
  {
   "cell_type": "code",
   "execution_count": 9,
   "id": "1c9a0fa9",
   "metadata": {},
   "outputs": [
    {
     "data": {
      "text/plain": [
       "<AxesSubplot:>"
      ]
     },
     "execution_count": 9,
     "metadata": {},
     "output_type": "execute_result"
    },
    {
     "data": {
      "image/png": "[encoded data removed]",
      "text/plain": [
       "<Figure size 432x288 with 1 Axes>"
      ]
     },
     "metadata": {
      "needs_background": "light"
     },
     "output_type": "display_data"
    }
   ],
   "source": [
    "dftrain['class'].value_counts().plot(kind='barh')"
   ]
  },
  {
   "cell_type": "code",
   "execution_count": 10,
   "id": "0aa55c45",
   "metadata": {},
   "outputs": [
    {
     "data": {
      "text/plain": [
       "Text(0.5, 0, '% survive')"
      ]
     },
     "execution_count": 10,
     "metadata": {},
     "output_type": "execute_result"
    },
    {
     "data": {
      "image/png": "[encoded data removed]",
      "text/plain": [
       "<Figure size 432x288 with 1 Axes>"
      ]
     },
     "metadata": {
      "needs_background": "light"
     },
     "output_type": "display_data"
    }
   ],
   "source": [
    "pd.concat([dftrain, y_train], axis=1).groupby('sex').survived.mean().plot(kind='barh').set_xlabel('% survive')"
   ]
  },
  {
   "cell_type": "code",
   "execution_count": 11,
   "id": "40958305",
   "metadata": {},
   "outputs": [
    {
     "data": {
      "text/plain": [
       "(264, 9)"
      ]
     },
     "execution_count": 11,
     "metadata": {},
     "output_type": "execute_result"
    }
   ],
   "source": [
    "dfeval.shape"
   ]
  },
  {
   "cell_type": "code",
   "execution_count": 15,
   "id": "228f3323",
   "metadata": {},
   "outputs": [
    {
     "name": "stdout",
     "output_type": "stream",
     "text": [
      "[VocabularyListCategoricalColumn(key='sex', vocabulary_list=('male', 'female'), dtype=tf.string, default_value=-1, num_oov_buckets=0), VocabularyListCategoricalColumn(key='n_siblings_spouses', vocabulary_list=(1, 0, 3, 4, 2, 5, 8), dtype=tf.int64, default_value=-1, num_oov_buckets=0), VocabularyListCategoricalColumn(key='parch', vocabulary_list=(0, 1, 2, 5, 3, 4), dtype=tf.int64, default_value=-1, num_oov_buckets=0), VocabularyListCategoricalColumn(key='class', vocabulary_list=('Third', 'First', 'Second'), dtype=tf.string, default_value=-1, num_oov_buckets=0), VocabularyListCategoricalColumn(key='deck', vocabulary_list=('unknown', 'C', 'G', 'A', 'B', 'D', 'F', 'E'), dtype=tf.string, default_value=-1, num_oov_buckets=0), VocabularyListCategoricalColumn(key='embark_town', vocabulary_list=('Southampton', 'Cherbourg', 'Queenstown', 'unknown'), dtype=tf.string, default_value=-1, num_oov_buckets=0), VocabularyListCategoricalColumn(key='alone', vocabulary_list=('n', 'y'), dtype=tf.string, default_value=-1, num_oov_buckets=0), NumericColumn(key='age', shape=(1,), default_value=None, dtype=tf.float32, normalizer_fn=None), NumericColumn(key='fare', shape=(1,), default_value=None, dtype=tf.float32, normalizer_fn=None)]\n"
     ]
    }
   ],
   "source": [
    "dftrain = pd.read_csv('train.csv') #train - training data\n",
    "dfeval = pd.read_csv('eval.csv') #eval - testing data\n",
    "y_train = dftrain.pop('survived')\n",
    "y_eval = dfeval.pop('survived')\n",
    "CATEGORICAL_COLUMNS = ['sex', 'n_siblings_spouses', 'parch', 'class', 'deck',\n",
    "                       'embark_town', 'alone']\n",
    "NUMERIC_COLUMNS = ['age', 'fare']\n",
    "feature_columns = []\n",
    "for feature_name in CATEGORICAL_COLUMNS:\n",
    "    vocabulary = dftrain[feature_name].unique()\n",
    "    feature_columns.append(tf.feature_column.categorical_column_with_vocabulary_list(feature_name, vocabulary))\n",
    "for feature_name in NUMERIC_COLUMNS:\n",
    "     feature_columns.append(tf.feature_column.numeric_column(feature_name, dtype=tf.float32))\n",
    "print(feature_columns)"
   ]
  },
  {
   "cell_type": "code",
   "execution_count": 16,
   "id": "1cb3dfc1",
   "metadata": {},
   "outputs": [
    {
     "data": {
      "text/plain": [
       "array([  7.25  ,  71.2833,   7.925 ,  53.1   ,   8.4583,  21.075 ,\n",
       "        11.1333,  30.0708,  16.7   ,   8.05  ,  31.275 ,   7.8542,\n",
       "        29.125 ,  13.    ,  18.    ,   7.225 ,  26.    ,  35.5   ,\n",
       "        31.3875, 263.    ,   7.8792,   7.8958,  27.7208, 146.5208,\n",
       "         7.75  ,  10.5   ,  82.1708,  52.    ,   7.2292,  11.2417,\n",
       "         9.475 ,  21.    ,  41.5792,  15.5   ,  21.6792,  17.8   ,\n",
       "        39.6875,  76.7292,  61.9792,  46.9   ,  80.    ,  83.475 ,\n",
       "        27.9   ,  15.2458,   8.1583,   8.6625,  73.5   ,  56.4958,\n",
       "         7.65  ,  29.    ,  12.475 ,   9.    ,   9.5   ,   7.7875,\n",
       "        47.1   ,  34.375 ,  61.175 ,  34.6542,  63.3583,  23.    ,\n",
       "        77.2875,   8.6542,   7.775 ,  24.15  ,  14.4542,  14.4583,\n",
       "       247.5208,   7.1417,   6.975 ,   7.05  ,  14.5   ,  15.0458,\n",
       "        26.2833,   9.2167,  79.2   ,   6.75  ,  11.5   ,  12.525 ,\n",
       "         7.3125,  61.3792,   7.7333,  69.55  ,  16.1   ,  55.    ,\n",
       "        25.4667,  28.7125,   0.    ,  15.05  ,  22.025 ,  26.55  ,\n",
       "         6.4958,  10.4625,  15.85  ,  18.7875,  31.    , 113.275 ,\n",
       "        27.    ,   9.35  ,  13.5   ,   7.55  ,  12.275 ,   7.125 ,\n",
       "        90.    ,  20.2125, 512.3292, 153.4625, 135.6333,  19.5   ,\n",
       "        29.7   ,  77.9583,  20.25  ,  78.85  ,  12.875 ,  30.5   ,\n",
       "        12.35  , 110.8833, 108.9   ,  24.    ,  56.9292,  83.1583,\n",
       "       262.375 ,  26.25  , 164.8667, 134.5   ,   6.2375,  20.525 ,\n",
       "        23.25  , 133.65  ,  66.6   ,  75.25  ,  69.3   , 211.5   ,\n",
       "       227.525 ,   7.7292,  12.    , 120.    ,   7.7958,  18.75  ,\n",
       "         6.8583,  32.5   ,  55.9   ,   8.1125,  19.2583,  27.75  ,\n",
       "        89.1042,  51.8625,  38.5   ,   7.725 ,  13.7917,   7.0458,\n",
       "        12.2875,   9.5875,  91.0792,  15.9   ,  19.9667,  49.5042,\n",
       "       151.55  ,  59.4   ,   7.4958,  34.0208,  93.5   ,  57.9792,\n",
       "       221.7792,  22.3583, 106.425 ,  49.5   ,  71.    ,  13.8625,\n",
       "         7.8292,  39.6   ,  79.65  ,  17.4   ,  51.4792,  26.3875,\n",
       "        30.    ,  40.125 ,  15.    ,  78.2667,  33.    ,  15.55  ,\n",
       "        65.    ,  14.4   ,  15.7417,  32.3208,   7.0542,   8.4333,\n",
       "        25.5875,  39.    ,   9.8417,   9.225 ,  10.1708, 211.3375,\n",
       "        57.    ,  13.4167,  26.2875,   7.7417,   9.4833,   8.3625,\n",
       "        23.45  ,  20.575 ,  30.6958,  25.9292,   8.6833,   7.8875,\n",
       "        37.0042,   6.95  ,   8.3   ,   6.4375,  39.4   ,  14.1083,\n",
       "        13.8583,  50.4958,  52.5542,   5.    ,   9.8458,  10.5167])"
      ]
     },
     "execution_count": 16,
     "metadata": {},
     "output_type": "execute_result"
    }
   ],
   "source": [
    "dftrain[feature_name].unique()"
   ]
  },
  {
   "cell_type": "code",
   "execution_count": 20,
   "id": "5d2b620c",
   "metadata": {},
   "outputs": [
    {
     "data": {
      "text/plain": [
       "array(['male', 'female'], dtype=object)"
      ]
     },
     "execution_count": 20,
     "metadata": {},
     "output_type": "execute_result"
    }
   ],
   "source": [
    "dftrain['sex'].unique()"
   ]
  },
  {
   "cell_type": "code",
   "execution_count": 21,
   "id": "a185a852",
   "metadata": {},
   "outputs": [
    {
     "data": {
      "text/plain": [
       "array(['Southampton', 'Cherbourg', 'Queenstown', 'unknown'], dtype=object)"
      ]
     },
     "execution_count": 21,
     "metadata": {},
     "output_type": "execute_result"
    }
   ],
   "source": [
    "dftrain['embark_town'].unique()"
   ]
  },
  {
   "cell_type": "code",
   "execution_count": 35,
   "id": "99de40a5",
   "metadata": {},
   "outputs": [
    {
     "name": "stdout",
     "output_type": "stream",
     "text": [
      "0.75757575\n",
      "{'accuracy': 0.75757575, 'accuracy_baseline': 0.625, 'auc': 0.83437407, 'auc_precision_recall': 0.7942345, 'average_loss': 0.47250512, 'label/mean': 0.375, 'loss': 0.46493796, 'precision': 0.68421054, 'prediction/mean': 0.37516773, 'recall': 0.65656567, 'global_step': 200}\n"
     ]
    }
   ],
   "source": [
    "def make_input_fn(data_df, label_df, num_epochs=10, shuffle=True, batch_size=32):\n",
    "    def input_function():\n",
    "        ds = tf.data.Dataset.from_tensor_slices((dict(data_df),label_df))\n",
    "        if shuffle:\n",
    "            ds = ds.shuffle(1000)\n",
    "        ds = ds.batch(batch_size).repeat(num_epochs)\n",
    "        return ds\n",
    "    return input_function\n",
    "train_input_fn = make_input_fn(dftrain, y_train)\n",
    "eval_input_fn = make_input_fn(dfeval, y_eval, num_epochs=1, shuffle=False)\n",
    "linear_est = tf.estimator.LinearClassifier(feature_columns=feature_columns)\n",
    "linear_est.train(train_input_fn)\n",
    "result = linear_est.evaluate(eval_input_fn)\n",
    "clear_output()\n",
    "print(result['accuracy'])\n",
    "print(result)"
   ]
  },
  {
   "cell_type": "code",
   "execution_count": 37,
   "id": "d4e5033b",
   "metadata": {},
   "outputs": [
    {
     "name": "stdout",
     "output_type": "stream",
     "text": [
      "INFO:tensorflow:Calling model_fn.\n",
      "INFO:tensorflow:Done calling model_fn.\n",
      "INFO:tensorflow:Graph was finalized.\n",
      "INFO:tensorflow:Restoring parameters from /tmp/tmposiy38xm/model.ckpt-200\n"
     ]
    },
    {
     "name": "stderr",
     "output_type": "stream",
     "text": [
      "2022-11-12 20:46:05.454591: I tensorflow/stream_executor/cuda/cuda_gpu_executor.cc:980] successful NUMA node read from SysFS had negative value (-1), but there must be at least one NUMA node, so returning NUMA node zero\n",
      "2022-11-12 20:46:05.456674: W tensorflow/core/common_runtime/gpu/gpu_device.cc:1934] Cannot dlopen some GPU libraries. Please make sure the missing libraries mentioned above are installed properly if you would like to use GPU. Follow the guide at https://www.tensorflow.org/install/gpu for how to download and setup the required libraries for your platform.\n",
      "Skipping registering GPU devices...\n"
     ]
    },
    {
     "name": "stdout",
     "output_type": "stream",
     "text": [
      "INFO:tensorflow:Running local_init_op.\n",
      "INFO:tensorflow:Done running local_init_op.\n",
      "[{'logits': array([-2.5334482], dtype=float32), 'logistic': array([0.07354635], dtype=float32), 'probabilities': array([0.9264537 , 0.07354635], dtype=float32), 'class_ids': array([0]), 'classes': array([b'0'], dtype=object), 'all_class_ids': array([0, 1], dtype=int32), 'all_classes': array([b'0', b'1'], dtype=object)}, {'logits': array([-0.7245007], dtype=float32), 'logistic': array([0.32640266], dtype=float32), 'probabilities': array([0.67359734, 0.32640266], dtype=float32), 'class_ids': array([0]), 'classes': array([b'0'], dtype=object), 'all_class_ids': array([0, 1], dtype=int32), 'all_classes': array([b'0', b'1'], dtype=object)}, {'logits': array([0.7819289], dtype=float32), 'logistic': array([0.6860957], dtype=float32), 'probabilities': array([0.31390432, 0.68609565], dtype=float32), 'class_ids': array([1]), 'classes': array([b'1'], dtype=object), 'all_class_ids': array([0, 1], dtype=int32), 'all_classes': array([b'0', b'1'], dtype=object)}, {'logits': array([0.51594746], dtype=float32), 'logistic': array([0.62619966], dtype=float32), 'probabilities': array([0.37380034, 0.62619966], dtype=float32), 'class_ids': array([1]), 'classes': array([b'1'], dtype=object), 'all_class_ids': array([0, 1], dtype=int32), 'all_classes': array([b'0', b'1'], dtype=object)}, {'logits': array([-1.0151769], dtype=float32), 'logistic': array([0.26596797], dtype=float32), 'probabilities': array([0.73403203, 0.26596794], dtype=float32), 'class_ids': array([0]), 'classes': array([b'0'], dtype=object), 'all_class_ids': array([0, 1], dtype=int32), 'all_classes': array([b'0', b'1'], dtype=object)}, {'logits': array([1.1270993], dtype=float32), 'logistic': array([0.7553032], dtype=float32), 'probabilities': array([0.24469683, 0.7553032 ], dtype=float32), 'class_ids': array([1]), 'classes': array([b'1'], dtype=object), 'all_class_ids': array([0, 1], dtype=int32), 'all_classes': array([b'0', b'1'], dtype=object)}, {'logits': array([0.10298396], dtype=float32), 'logistic': array([0.5257232], dtype=float32), 'probabilities': array([0.47427672, 0.5257232 ], dtype=float32), 'class_ids': array([1]), 'classes': array([b'1'], dtype=object), 'all_class_ids': array([0, 1], dtype=int32), 'all_classes': array([b'0', b'1'], dtype=object)}, {'logits': array([-2.134615], dtype=float32), 'logistic': array([0.10577767], dtype=float32), 'probabilities': array([0.89422226, 0.10577767], dtype=float32), 'class_ids': array([0]), 'classes': array([b'0'], dtype=object), 'all_class_ids': array([0, 1], dtype=int32), 'all_classes': array([b'0', b'1'], dtype=object)}, {'logits': array([0.3683964], dtype=float32), 'logistic': array([0.5910714], dtype=float32), 'probabilities': array([0.40892854, 0.59107137], dtype=float32), 'class_ids': array([1]), 'classes': array([b'1'], dtype=object), 'all_class_ids': array([0, 1], dtype=int32), 'all_classes': array([b'0', b'1'], dtype=object)}, {'logits': array([1.012251], dtype=float32), 'logistic': array([0.7334604], dtype=float32), 'probabilities': array([0.26653957, 0.7334605 ], dtype=float32), 'class_ids': array([1]), 'classes': array([b'1'], dtype=object), 'all_class_ids': array([0, 1], dtype=int32), 'all_classes': array([b'0', b'1'], dtype=object)}, {'logits': array([0.7550864], dtype=float32), 'logistic': array([0.680286], dtype=float32), 'probabilities': array([0.319714, 0.680286], dtype=float32), 'class_ids': array([1]), 'classes': array([b'1'], dtype=object), 'all_class_ids': array([0, 1], dtype=int32), 'all_classes': array([b'0', b'1'], dtype=object)}, {'logits': array([-2.1361082], dtype=float32), 'logistic': array([0.10563651], dtype=float32), 'probabilities': array([0.8943634 , 0.10563651], dtype=float32), 'class_ids': array([0]), 'classes': array([b'0'], dtype=object), 'all_class_ids': array([0, 1], dtype=int32), 'all_classes': array([b'0', b'1'], dtype=object)}, {'logits': array([1.6903216], dtype=float32), 'logistic': array([0.8442664], dtype=float32), 'probabilities': array([0.15573354, 0.8442664 ], dtype=float32), 'class_ids': array([1]), 'classes': array([b'1'], dtype=object), 'all_class_ids': array([0, 1], dtype=int32), 'all_classes': array([b'0', b'1'], dtype=object)}, {'logits': array([-0.49120152], dtype=float32), 'logistic': array([0.37961054], dtype=float32), 'probabilities': array([0.6203894 , 0.37961054], dtype=float32), 'class_ids': array([0]), 'classes': array([b'0'], dtype=object), 'all_class_ids': array([0, 1], dtype=int32), 'all_classes': array([b'0', b'1'], dtype=object)}, {'logits': array([1.6361727], dtype=float32), 'logistic': array([0.8370135], dtype=float32), 'probabilities': array([0.16298652, 0.8370135 ], dtype=float32), 'class_ids': array([1]), 'classes': array([b'1'], dtype=object), 'all_class_ids': array([0, 1], dtype=int32), 'all_classes': array([b'0', b'1'], dtype=object)}, {'logits': array([0.07526768], dtype=float32), 'logistic': array([0.518808], dtype=float32), 'probabilities': array([0.48119193, 0.518808  ], dtype=float32), 'class_ids': array([1]), 'classes': array([b'1'], dtype=object), 'all_class_ids': array([0, 1], dtype=int32), 'all_classes': array([b'0', b'1'], dtype=object)}, {'logits': array([-1.6602318], dtype=float32), 'logistic': array([0.15973087], dtype=float32), 'probabilities': array([0.840269  , 0.15973087], dtype=float32), 'class_ids': array([0]), 'classes': array([b'0'], dtype=object), 'all_class_ids': array([0, 1], dtype=int32), 'all_classes': array([b'0', b'1'], dtype=object)}, {'logits': array([1.565642], dtype=float32), 'logistic': array([0.82716143], dtype=float32), 'probabilities': array([0.17283855, 0.82716143], dtype=float32), 'class_ids': array([1]), 'classes': array([b'1'], dtype=object), 'all_class_ids': array([0, 1], dtype=int32), 'all_classes': array([b'0', b'1'], dtype=object)}, {'logits': array([-0.659166], dtype=float32), 'logistic': array([0.340927], dtype=float32), 'probabilities': array([0.659073, 0.340927], dtype=float32), 'class_ids': array([0]), 'classes': array([b'0'], dtype=object), 'all_class_ids': array([0, 1], dtype=int32), 'all_classes': array([b'0', b'1'], dtype=object)}, {'logits': array([-2.3625197], dtype=float32), 'logistic': array([0.08607577], dtype=float32), 'probabilities': array([0.9139242 , 0.08607577], dtype=float32), 'class_ids': array([0]), 'classes': array([b'0'], dtype=object), 'all_class_ids': array([0, 1], dtype=int32), 'all_classes': array([b'0', b'1'], dtype=object)}, {'logits': array([-2.1072965], dtype=float32), 'logistic': array([0.10838967], dtype=float32), 'probabilities': array([0.8916103 , 0.10838967], dtype=float32), 'class_ids': array([0]), 'classes': array([b'0'], dtype=object), 'all_class_ids': array([0, 1], dtype=int32), 'all_classes': array([b'0', b'1'], dtype=object)}, {'logits': array([-2.5224562], dtype=float32), 'logistic': array([0.07429884], dtype=float32), 'probabilities': array([0.9257012 , 0.07429884], dtype=float32), 'class_ids': array([0]), 'classes': array([b'0'], dtype=object), 'all_class_ids': array([0, 1], dtype=int32), 'all_classes': array([b'0', b'1'], dtype=object)}, {'logits': array([0.6269754], dtype=float32), 'logistic': array([0.6518033], dtype=float32), 'probabilities': array([0.34819666, 0.6518033 ], dtype=float32), 'class_ids': array([1]), 'classes': array([b'1'], dtype=object), 'all_class_ids': array([0, 1], dtype=int32), 'all_classes': array([b'0', b'1'], dtype=object)}, {'logits': array([-2.6198335], dtype=float32), 'logistic': array([0.06787283], dtype=float32), 'probabilities': array([0.9321273 , 0.06787284], dtype=float32), 'class_ids': array([0]), 'classes': array([b'0'], dtype=object), 'all_class_ids': array([0, 1], dtype=int32), 'all_classes': array([b'0', b'1'], dtype=object)}, {'logits': array([0.6565814], dtype=float32), 'logistic': array([0.6584921], dtype=float32), 'probabilities': array([0.34150797, 0.658492  ], dtype=float32), 'class_ids': array([1]), 'classes': array([b'1'], dtype=object), 'all_class_ids': array([0, 1], dtype=int32), 'all_classes': array([b'0', b'1'], dtype=object)}, {'logits': array([0.24244106], dtype=float32), 'logistic': array([0.56031513], dtype=float32), 'probabilities': array([0.43968487, 0.56031513], dtype=float32), 'class_ids': array([1]), 'classes': array([b'1'], dtype=object), 'all_class_ids': array([0, 1], dtype=int32), 'all_classes': array([b'0', b'1'], dtype=object)}, {'logits': array([-1.3418419], dtype=float32), 'logistic': array([0.20720732], dtype=float32), 'probabilities': array([0.7927927, 0.2072073], dtype=float32), 'class_ids': array([0]), 'classes': array([b'0'], dtype=object), 'all_class_ids': array([0, 1], dtype=int32), 'all_classes': array([b'0', b'1'], dtype=object)}, {'logits': array([-1.0687325], dtype=float32), 'logistic': array([0.2556442], dtype=float32), 'probabilities': array([0.74435574, 0.2556442 ], dtype=float32), 'class_ids': array([0]), 'classes': array([b'0'], dtype=object), 'all_class_ids': array([0, 1], dtype=int32), 'all_classes': array([b'0', b'1'], dtype=object)}, {'logits': array([-1.2805877], dtype=float32), 'logistic': array([0.2174502], dtype=float32), 'probabilities': array([0.7825498 , 0.21745022], dtype=float32), 'class_ids': array([0]), 'classes': array([b'0'], dtype=object), 'all_class_ids': array([0, 1], dtype=int32), 'all_classes': array([b'0', b'1'], dtype=object)}, {'logits': array([1.52511], dtype=float32), 'logistic': array([0.8212897], dtype=float32), 'probabilities': array([0.17871027, 0.82128966], dtype=float32), 'class_ids': array([1]), 'classes': array([b'1'], dtype=object), 'all_class_ids': array([0, 1], dtype=int32), 'all_classes': array([b'0', b'1'], dtype=object)}, {'logits': array([-1.8869494], dtype=float32), 'logistic': array([0.13159268], dtype=float32), 'probabilities': array([0.86840725, 0.13159268], dtype=float32), 'class_ids': array([0]), 'classes': array([b'0'], dtype=object), 'all_class_ids': array([0, 1], dtype=int32), 'all_classes': array([b'0', b'1'], dtype=object)}, {'logits': array([1.3044963], dtype=float32), 'logistic': array([0.78659075], dtype=float32), 'probabilities': array([0.21340926, 0.7865907 ], dtype=float32), 'class_ids': array([1]), 'classes': array([b'1'], dtype=object), 'all_class_ids': array([0, 1], dtype=int32), 'all_classes': array([b'0', b'1'], dtype=object)}, {'logits': array([-1.4113091], dtype=float32), 'logistic': array([0.19602767], dtype=float32), 'probabilities': array([0.8039723 , 0.19602765], dtype=float32), 'class_ids': array([0]), 'classes': array([b'0'], dtype=object), 'all_class_ids': array([0, 1], dtype=int32), 'all_classes': array([b'0', b'1'], dtype=object)}, {'logits': array([0.5786178], dtype=float32), 'logistic': array([0.6407493], dtype=float32), 'probabilities': array([0.3592507 , 0.64074934], dtype=float32), 'class_ids': array([1]), 'classes': array([b'1'], dtype=object), 'all_class_ids': array([0, 1], dtype=int32), 'all_classes': array([b'0', b'1'], dtype=object)}, {'logits': array([-1.0916522], dtype=float32), 'logistic': array([0.2513073], dtype=float32), 'probabilities': array([0.74869275, 0.2513073 ], dtype=float32), 'class_ids': array([0]), 'classes': array([b'0'], dtype=object), 'all_class_ids': array([0, 1], dtype=int32), 'all_classes': array([b'0', b'1'], dtype=object)}, {'logits': array([-2.3070617], dtype=float32), 'logistic': array([0.09053981], dtype=float32), 'probabilities': array([0.9094602 , 0.09053981], dtype=float32), 'class_ids': array([0]), 'classes': array([b'0'], dtype=object), 'all_class_ids': array([0, 1], dtype=int32), 'all_classes': array([b'0', b'1'], dtype=object)}, {'logits': array([-1.7709581], dtype=float32), 'logistic': array([0.14542323], dtype=float32), 'probabilities': array([0.85457677, 0.14542322], dtype=float32), 'class_ids': array([0]), 'classes': array([b'0'], dtype=object), 'all_class_ids': array([0, 1], dtype=int32), 'all_classes': array([b'0', b'1'], dtype=object)}, {'logits': array([-1.8956066], dtype=float32), 'logistic': array([0.13060652], dtype=float32), 'probabilities': array([0.86939347, 0.13060652], dtype=float32), 'class_ids': array([0]), 'classes': array([b'0'], dtype=object), 'all_class_ids': array([0, 1], dtype=int32), 'all_classes': array([b'0', b'1'], dtype=object)}, {'logits': array([2.0348547], dtype=float32), 'logistic': array([0.88440824], dtype=float32), 'probabilities': array([0.1155917 , 0.88440824], dtype=float32), 'class_ids': array([1]), 'classes': array([b'1'], dtype=object), 'all_class_ids': array([0, 1], dtype=int32), 'all_classes': array([b'0', b'1'], dtype=object)}, {'logits': array([-2.3910074], dtype=float32), 'logistic': array([0.083861], dtype=float32), 'probabilities': array([0.916139, 0.083861], dtype=float32), 'class_ids': array([0]), 'classes': array([b'0'], dtype=object), 'all_class_ids': array([0, 1], dtype=int32), 'all_classes': array([b'0', b'1'], dtype=object)}, {'logits': array([0.94177544], dtype=float32), 'logistic': array([0.71945816], dtype=float32), 'probabilities': array([0.28054187, 0.71945816], dtype=float32), 'class_ids': array([1]), 'classes': array([b'1'], dtype=object), 'all_class_ids': array([0, 1], dtype=int32), 'all_classes': array([b'0', b'1'], dtype=object)}, {'logits': array([-2.2403176], dtype=float32), 'logistic': array([0.09618793], dtype=float32), 'probabilities': array([0.903812  , 0.09618793], dtype=float32), 'class_ids': array([0]), 'classes': array([b'0'], dtype=object), 'all_class_ids': array([0, 1], dtype=int32), 'all_classes': array([b'0', b'1'], dtype=object)}, {'logits': array([-0.35145366], dtype=float32), 'logistic': array([0.41302994], dtype=float32), 'probabilities': array([0.58697003, 0.41302997], dtype=float32), 'class_ids': array([0]), 'classes': array([b'0'], dtype=object), 'all_class_ids': array([0, 1], dtype=int32), 'all_classes': array([b'0', b'1'], dtype=object)}, {'logits': array([-1.0923718], dtype=float32), 'logistic': array([0.2511719], dtype=float32), 'probabilities': array([0.74882805, 0.2511719 ], dtype=float32), 'class_ids': array([0]), 'classes': array([b'0'], dtype=object), 'all_class_ids': array([0, 1], dtype=int32), 'all_classes': array([b'0', b'1'], dtype=object)}, {'logits': array([-1.4633785], dtype=float32), 'logistic': array([0.18795113], dtype=float32), 'probabilities': array([0.81204885, 0.18795112], dtype=float32), 'class_ids': array([0]), 'classes': array([b'0'], dtype=object), 'all_class_ids': array([0, 1], dtype=int32), 'all_classes': array([b'0', b'1'], dtype=object)}, {'logits': array([1.2244076], dtype=float32), 'logistic': array([0.77283823], dtype=float32), 'probabilities': array([0.22716174, 0.7728383 ], dtype=float32), 'class_ids': array([1]), 'classes': array([b'1'], dtype=object), 'all_class_ids': array([0, 1], dtype=int32), 'all_classes': array([b'0', b'1'], dtype=object)}, {'logits': array([-2.1353614], dtype=float32), 'logistic': array([0.10570709], dtype=float32), 'probabilities': array([0.89429295, 0.10570709], dtype=float32), 'class_ids': array([0]), 'classes': array([b'0'], dtype=object), 'all_class_ids': array([0, 1], dtype=int32), 'all_classes': array([b'0', b'1'], dtype=object)}, {'logits': array([-0.8084804], dtype=float32), 'logistic': array([0.3082144], dtype=float32), 'probabilities': array([0.6917856, 0.3082144], dtype=float32), 'class_ids': array([0]), 'classes': array([b'0'], dtype=object), 'all_class_ids': array([0, 1], dtype=int32), 'all_classes': array([b'0', b'1'], dtype=object)}, {'logits': array([-0.54703176], dtype=float32), 'logistic': array([0.36655334], dtype=float32), 'probabilities': array([0.63344663, 0.36655334], dtype=float32), 'class_ids': array([0]), 'classes': array([b'0'], dtype=object), 'all_class_ids': array([0, 1], dtype=int32), 'all_classes': array([b'0', b'1'], dtype=object)}, {'logits': array([-0.48594874], dtype=float32), 'logistic': array([0.3808484], dtype=float32), 'probabilities': array([0.61915165, 0.38084844], dtype=float32), 'class_ids': array([0]), 'classes': array([b'0'], dtype=object), 'all_class_ids': array([0, 1], dtype=int32), 'all_classes': array([b'0', b'1'], dtype=object)}, {'logits': array([-2.2975936], dtype=float32), 'logistic': array([0.09132246], dtype=float32), 'probabilities': array([0.90867764, 0.09132247], dtype=float32), 'class_ids': array([0]), 'classes': array([b'0'], dtype=object), 'all_class_ids': array([0, 1], dtype=int32), 'all_classes': array([b'0', b'1'], dtype=object)}, {'logits': array([-1.2403806], dtype=float32), 'logistic': array([0.22436975], dtype=float32), 'probabilities': array([0.77563024, 0.22436973], dtype=float32), 'class_ids': array([0]), 'classes': array([b'0'], dtype=object), 'all_class_ids': array([0, 1], dtype=int32), 'all_classes': array([b'0', b'1'], dtype=object)}, {'logits': array([-2.925745], dtype=float32), 'logistic': array([0.05089547], dtype=float32), 'probabilities': array([0.9491045 , 0.05089547], dtype=float32), 'class_ids': array([0]), 'classes': array([b'0'], dtype=object), 'all_class_ids': array([0, 1], dtype=int32), 'all_classes': array([b'0', b'1'], dtype=object)}, {'logits': array([-2.2470574], dtype=float32), 'logistic': array([0.09560359], dtype=float32), 'probabilities': array([0.9043964 , 0.09560359], dtype=float32), 'class_ids': array([0]), 'classes': array([b'0'], dtype=object), 'all_class_ids': array([0, 1], dtype=int32), 'all_classes': array([b'0', b'1'], dtype=object)}, {'logits': array([-2.0491505], dtype=float32), 'logistic': array([0.11413826], dtype=float32), 'probabilities': array([0.8858618 , 0.11413826], dtype=float32), 'class_ids': array([0]), 'classes': array([b'0'], dtype=object), 'all_class_ids': array([0, 1], dtype=int32), 'all_classes': array([b'0', b'1'], dtype=object)}, {'logits': array([-2.2260523], dtype=float32), 'logistic': array([0.09743526], dtype=float32), 'probabilities': array([0.9025647 , 0.09743526], dtype=float32), 'class_ids': array([0]), 'classes': array([b'0'], dtype=object), 'all_class_ids': array([0, 1], dtype=int32), 'all_classes': array([b'0', b'1'], dtype=object)}, {'logits': array([-1.5537496], dtype=float32), 'logistic': array([0.17454538], dtype=float32), 'probabilities': array([0.82545453, 0.17454536], dtype=float32), 'class_ids': array([0]), 'classes': array([b'0'], dtype=object), 'all_class_ids': array([0, 1], dtype=int32), 'all_classes': array([b'0', b'1'], dtype=object)}, {'logits': array([3.1014767], dtype=float32), 'logistic': array([0.95695364], dtype=float32), 'probabilities': array([0.04304639, 0.95695364], dtype=float32), 'class_ids': array([1]), 'classes': array([b'1'], dtype=object), 'all_class_ids': array([0, 1], dtype=int32), 'all_classes': array([b'0', b'1'], dtype=object)}, {'logits': array([-1.4682853], dtype=float32), 'logistic': array([0.18720336], dtype=float32), 'probabilities': array([0.81279665, 0.18720338], dtype=float32), 'class_ids': array([0]), 'classes': array([b'0'], dtype=object), 'all_class_ids': array([0, 1], dtype=int32), 'all_classes': array([b'0', b'1'], dtype=object)}, {'logits': array([-2.3349526], dtype=float32), 'logistic': array([0.08826927], dtype=float32), 'probabilities': array([0.91173065, 0.08826927], dtype=float32), 'class_ids': array([0]), 'classes': array([b'0'], dtype=object), 'all_class_ids': array([0, 1], dtype=int32), 'all_classes': array([b'0', b'1'], dtype=object)}, {'logits': array([-1.0451603], dtype=float32), 'logistic': array([0.26015553], dtype=float32), 'probabilities': array([0.7398445 , 0.26015556], dtype=float32), 'class_ids': array([0]), 'classes': array([b'0'], dtype=object), 'all_class_ids': array([0, 1], dtype=int32), 'all_classes': array([b'0', b'1'], dtype=object)}, {'logits': array([0.15764892], dtype=float32), 'logistic': array([0.53933084], dtype=float32), 'probabilities': array([0.46066922, 0.53933084], dtype=float32), 'class_ids': array([1]), 'classes': array([b'1'], dtype=object), 'all_class_ids': array([0, 1], dtype=int32), 'all_classes': array([b'0', b'1'], dtype=object)}, {'logits': array([-1.3977542], dtype=float32), 'logistic': array([0.19817273], dtype=float32), 'probabilities': array([0.8018273 , 0.19817273], dtype=float32), 'class_ids': array([0]), 'classes': array([b'0'], dtype=object), 'all_class_ids': array([0, 1], dtype=int32), 'all_classes': array([b'0', b'1'], dtype=object)}, {'logits': array([1.3940375], dtype=float32), 'logistic': array([0.80123603], dtype=float32), 'probabilities': array([0.198764 , 0.8012361], dtype=float32), 'class_ids': array([1]), 'classes': array([b'1'], dtype=object), 'all_class_ids': array([0, 1], dtype=int32), 'all_classes': array([b'0', b'1'], dtype=object)}, {'logits': array([-1.5401946], dtype=float32), 'logistic': array([0.17650698], dtype=float32), 'probabilities': array([0.82349306, 0.176507  ], dtype=float32), 'class_ids': array([0]), 'classes': array([b'0'], dtype=object), 'all_class_ids': array([0, 1], dtype=int32), 'all_classes': array([b'0', b'1'], dtype=object)}, {'logits': array([0.5137696], dtype=float32), 'logistic': array([0.62568974], dtype=float32), 'probabilities': array([0.37431023, 0.6256897 ], dtype=float32), 'class_ids': array([1]), 'classes': array([b'1'], dtype=object), 'all_class_ids': array([0, 1], dtype=int32), 'all_classes': array([b'0', b'1'], dtype=object)}, {'logits': array([-0.530313], dtype=float32), 'logistic': array([0.37044388], dtype=float32), 'probabilities': array([0.62955606, 0.37044385], dtype=float32), 'class_ids': array([0]), 'classes': array([b'0'], dtype=object), 'all_class_ids': array([0, 1], dtype=int32), 'all_classes': array([b'0', b'1'], dtype=object)}, {'logits': array([-2.1716855], dtype=float32), 'logistic': array([0.10232212], dtype=float32), 'probabilities': array([0.8976779 , 0.10232212], dtype=float32), 'class_ids': array([0]), 'classes': array([b'0'], dtype=object), 'all_class_ids': array([0, 1], dtype=int32), 'all_classes': array([b'0', b'1'], dtype=object)}, {'logits': array([-2.096003], dtype=float32), 'logistic': array([0.10948591], dtype=float32), 'probabilities': array([0.8905141 , 0.10948591], dtype=float32), 'class_ids': array([0]), 'classes': array([b'0'], dtype=object), 'all_class_ids': array([0, 1], dtype=int32), 'all_classes': array([b'0', b'1'], dtype=object)}, {'logits': array([0.5128099], dtype=float32), 'logistic': array([0.6254649], dtype=float32), 'probabilities': array([0.37453502, 0.6254649 ], dtype=float32), 'class_ids': array([1]), 'classes': array([b'1'], dtype=object), 'all_class_ids': array([0, 1], dtype=int32), 'all_classes': array([b'0', b'1'], dtype=object)}, {'logits': array([2.5003138], dtype=float32), 'logistic': array([0.9241638], dtype=float32), 'probabilities': array([0.07583618, 0.92416376], dtype=float32), 'class_ids': array([1]), 'classes': array([b'1'], dtype=object), 'all_class_ids': array([0, 1], dtype=int32), 'all_classes': array([b'0', b'1'], dtype=object)}, {'logits': array([-0.4946792], dtype=float32), 'logistic': array([0.3787919], dtype=float32), 'probabilities': array([0.62120813, 0.3787919 ], dtype=float32), 'class_ids': array([0]), 'classes': array([b'0'], dtype=object), 'all_class_ids': array([0, 1], dtype=int32), 'all_classes': array([b'0', b'1'], dtype=object)}, {'logits': array([-3.0629525], dtype=float32), 'logistic': array([0.04466156], dtype=float32), 'probabilities': array([0.9553384 , 0.04466156], dtype=float32), 'class_ids': array([0]), 'classes': array([b'0'], dtype=object), 'all_class_ids': array([0, 1], dtype=int32), 'all_classes': array([b'0', b'1'], dtype=object)}, {'logits': array([-2.0776386], dtype=float32), 'logistic': array([0.11128931], dtype=float32), 'probabilities': array([0.8887107 , 0.11128931], dtype=float32), 'class_ids': array([0]), 'classes': array([b'0'], dtype=object), 'all_class_ids': array([0, 1], dtype=int32), 'all_classes': array([b'0', b'1'], dtype=object)}, {'logits': array([-1.8823696], dtype=float32), 'logistic': array([0.13211693], dtype=float32), 'probabilities': array([0.8678831 , 0.13211693], dtype=float32), 'class_ids': array([0]), 'classes': array([b'0'], dtype=object), 'all_class_ids': array([0, 1], dtype=int32), 'all_classes': array([b'0', b'1'], dtype=object)}, {'logits': array([-2.3823464], dtype=float32), 'logistic': array([0.08452882], dtype=float32), 'probabilities': array([0.9154711 , 0.08452881], dtype=float32), 'class_ids': array([0]), 'classes': array([b'0'], dtype=object), 'all_class_ids': array([0, 1], dtype=int32), 'all_classes': array([b'0', b'1'], dtype=object)}, {'logits': array([-2.164024], dtype=float32), 'logistic': array([0.10302798], dtype=float32), 'probabilities': array([0.89697206, 0.10302798], dtype=float32), 'class_ids': array([0]), 'classes': array([b'0'], dtype=object), 'all_class_ids': array([0, 1], dtype=int32), 'all_classes': array([b'0', b'1'], dtype=object)}, {'logits': array([-1.8956066], dtype=float32), 'logistic': array([0.13060652], dtype=float32), 'probabilities': array([0.86939347, 0.13060652], dtype=float32), 'class_ids': array([0]), 'classes': array([b'0'], dtype=object), 'all_class_ids': array([0, 1], dtype=int32), 'all_classes': array([b'0', b'1'], dtype=object)}, {'logits': array([0.9260149], dtype=float32), 'logistic': array([0.7162661], dtype=float32), 'probabilities': array([0.2837339, 0.7162661], dtype=float32), 'class_ids': array([1]), 'classes': array([b'1'], dtype=object), 'all_class_ids': array([0, 1], dtype=int32), 'all_classes': array([b'0', b'1'], dtype=object)}, {'logits': array([3.419605], dtype=float32), 'logistic': array([0.96831167], dtype=float32), 'probabilities': array([0.03168835, 0.9683116 ], dtype=float32), 'class_ids': array([1]), 'classes': array([b'1'], dtype=object), 'all_class_ids': array([0, 1], dtype=int32), 'all_classes': array([b'0', b'1'], dtype=object)}, {'logits': array([0.5486791], dtype=float32), 'logistic': array([0.63382906], dtype=float32), 'probabilities': array([0.36617094, 0.6338291 ], dtype=float32), 'class_ids': array([1]), 'classes': array([b'1'], dtype=object), 'all_class_ids': array([0, 1], dtype=int32), 'all_classes': array([b'0', b'1'], dtype=object)}, {'logits': array([-0.49120152], dtype=float32), 'logistic': array([0.37961054], dtype=float32), 'probabilities': array([0.6203894 , 0.37961054], dtype=float32), 'class_ids': array([0]), 'classes': array([b'0'], dtype=object), 'all_class_ids': array([0, 1], dtype=int32), 'all_classes': array([b'0', b'1'], dtype=object)}, {'logits': array([-1.6202943], dtype=float32), 'logistic': array([0.16516429], dtype=float32), 'probabilities': array([0.8348357 , 0.16516429], dtype=float32), 'class_ids': array([0]), 'classes': array([b'0'], dtype=object), 'all_class_ids': array([0, 1], dtype=int32), 'all_classes': array([b'0', b'1'], dtype=object)}, {'logits': array([2.8037014], dtype=float32), 'logistic': array([0.9428755], dtype=float32), 'probabilities': array([0.05712449, 0.94287556], dtype=float32), 'class_ids': array([1]), 'classes': array([b'1'], dtype=object), 'all_class_ids': array([0, 1], dtype=int32), 'all_classes': array([b'0', b'1'], dtype=object)}, {'logits': array([-2.3221743], dtype=float32), 'logistic': array([0.08930307], dtype=float32), 'probabilities': array([0.9106969 , 0.08930307], dtype=float32), 'class_ids': array([0]), 'classes': array([b'0'], dtype=object), 'all_class_ids': array([0, 1], dtype=int32), 'all_classes': array([b'0', b'1'], dtype=object)}, {'logits': array([0.07048894], dtype=float32), 'logistic': array([0.5176149], dtype=float32), 'probabilities': array([0.482385 , 0.5176149], dtype=float32), 'class_ids': array([1]), 'classes': array([b'1'], dtype=object), 'all_class_ids': array([0, 1], dtype=int32), 'all_classes': array([b'0', b'1'], dtype=object)}, {'logits': array([0.48575473], dtype=float32), 'logistic': array([0.6191058], dtype=float32), 'probabilities': array([0.38089418, 0.6191059 ], dtype=float32), 'class_ids': array([1]), 'classes': array([b'1'], dtype=object), 'all_class_ids': array([0, 1], dtype=int32), 'all_classes': array([b'0', b'1'], dtype=object)}, {'logits': array([-2.2314906], dtype=float32), 'logistic': array([0.09695806], dtype=float32), 'probabilities': array([0.9030419 , 0.09695804], dtype=float32), 'class_ids': array([0]), 'classes': array([b'0'], dtype=object), 'all_class_ids': array([0, 1], dtype=int32), 'all_classes': array([b'0', b'1'], dtype=object)}, {'logits': array([1.5332776], dtype=float32), 'logistic': array([0.8224854], dtype=float32), 'probabilities': array([0.17751461, 0.82248527], dtype=float32), 'class_ids': array([1]), 'classes': array([b'1'], dtype=object), 'all_class_ids': array([0, 1], dtype=int32), 'all_classes': array([b'0', b'1'], dtype=object)}, {'logits': array([1.6918265], dtype=float32), 'logistic': array([0.8444642], dtype=float32), 'probabilities': array([0.1555358 , 0.84446424], dtype=float32), 'class_ids': array([1]), 'classes': array([b'1'], dtype=object), 'all_class_ids': array([0, 1], dtype=int32), 'all_classes': array([b'0', b'1'], dtype=object)}, {'logits': array([3.1242328], dtype=float32), 'logistic': array([0.95788133], dtype=float32), 'probabilities': array([0.04211866, 0.9578812 ], dtype=float32), 'class_ids': array([1]), 'classes': array([b'1'], dtype=object), 'all_class_ids': array([0, 1], dtype=int32), 'all_classes': array([b'0', b'1'], dtype=object)}, {'logits': array([-1.6143017], dtype=float32), 'logistic': array([0.16599225], dtype=float32), 'probabilities': array([0.8340078 , 0.16599225], dtype=float32), 'class_ids': array([0]), 'classes': array([b'0'], dtype=object), 'all_class_ids': array([0, 1], dtype=int32), 'all_classes': array([b'0', b'1'], dtype=object)}, {'logits': array([-2.3386068], dtype=float32), 'logistic': array([0.08797564], dtype=float32), 'probabilities': array([0.9120244 , 0.08797563], dtype=float32), 'class_ids': array([0]), 'classes': array([b'0'], dtype=object), 'all_class_ids': array([0, 1], dtype=int32), 'all_classes': array([b'0', b'1'], dtype=object)}, {'logits': array([3.4938815], dtype=float32), 'logistic': array([0.97051316], dtype=float32), 'probabilities': array([0.02948682, 0.9705131 ], dtype=float32), 'class_ids': array([1]), 'classes': array([b'1'], dtype=object), 'all_class_ids': array([0, 1], dtype=int32), 'all_classes': array([b'0', b'1'], dtype=object)}, {'logits': array([-0.25917935], dtype=float32), 'logistic': array([0.43556544], dtype=float32), 'probabilities': array([0.5644345, 0.4355654], dtype=float32), 'class_ids': array([0]), 'classes': array([b'0'], dtype=object), 'all_class_ids': array([0, 1], dtype=int32), 'all_classes': array([b'0', b'1'], dtype=object)}, {'logits': array([1.8612902], dtype=float32), 'logistic': array([0.8654473], dtype=float32), 'probabilities': array([0.13455273, 0.8654472 ], dtype=float32), 'class_ids': array([1]), 'classes': array([b'1'], dtype=object), 'all_class_ids': array([0, 1], dtype=int32), 'all_classes': array([b'0', b'1'], dtype=object)}, {'logits': array([-1.5680755], dtype=float32), 'logistic': array([0.17249092], dtype=float32), 'probabilities': array([0.82750905, 0.17249091], dtype=float32), 'class_ids': array([0]), 'classes': array([b'0'], dtype=object), 'all_class_ids': array([0, 1], dtype=int32), 'all_classes': array([b'0', b'1'], dtype=object)}, {'logits': array([-2.729206], dtype=float32), 'logistic': array([0.06127181], dtype=float32), 'probabilities': array([0.93872815, 0.06127181], dtype=float32), 'class_ids': array([0]), 'classes': array([b'0'], dtype=object), 'all_class_ids': array([0, 1], dtype=int32), 'all_classes': array([b'0', b'1'], dtype=object)}, {'logits': array([-2.1845725], dtype=float32), 'logistic': array([0.10114447], dtype=float32), 'probabilities': array([0.89885557, 0.10114447], dtype=float32), 'class_ids': array([0]), 'classes': array([b'0'], dtype=object), 'all_class_ids': array([0, 1], dtype=int32), 'all_classes': array([b'0', b'1'], dtype=object)}, {'logits': array([-1.0769341], dtype=float32), 'logistic': array([0.25408664], dtype=float32), 'probabilities': array([0.7459133 , 0.25408664], dtype=float32), 'class_ids': array([0]), 'classes': array([b'0'], dtype=object), 'all_class_ids': array([0, 1], dtype=int32), 'all_classes': array([b'0', b'1'], dtype=object)}, {'logits': array([-2.3957863], dtype=float32), 'logistic': array([0.08349457], dtype=float32), 'probabilities': array([0.91650546, 0.08349458], dtype=float32), 'class_ids': array([0]), 'classes': array([b'0'], dtype=object), 'all_class_ids': array([0, 1], dtype=int32), 'all_classes': array([b'0', b'1'], dtype=object)}, {'logits': array([0.70160294], dtype=float32), 'logistic': array([0.6685431], dtype=float32), 'probabilities': array([0.33145693, 0.66854304], dtype=float32), 'class_ids': array([1]), 'classes': array([b'1'], dtype=object), 'all_class_ids': array([0, 1], dtype=int32), 'all_classes': array([b'0', b'1'], dtype=object)}, {'logits': array([0.3243147], dtype=float32), 'logistic': array([0.58037543], dtype=float32), 'probabilities': array([0.41962457, 0.58037543], dtype=float32), 'class_ids': array([1]), 'classes': array([b'1'], dtype=object), 'all_class_ids': array([0, 1], dtype=int32), 'all_classes': array([b'0', b'1'], dtype=object)}, {'logits': array([0.24542439], dtype=float32), 'logistic': array([0.56105], dtype=float32), 'probabilities': array([0.43895003, 0.56105   ], dtype=float32), 'class_ids': array([1]), 'classes': array([b'1'], dtype=object), 'all_class_ids': array([0, 1], dtype=int32), 'all_classes': array([b'0', b'1'], dtype=object)}, {'logits': array([0.59609795], dtype=float32), 'logistic': array([0.6447631], dtype=float32), 'probabilities': array([0.35523695, 0.6447631 ], dtype=float32), 'class_ids': array([1]), 'classes': array([b'1'], dtype=object), 'all_class_ids': array([0, 1], dtype=int32), 'all_classes': array([b'0', b'1'], dtype=object)}, {'logits': array([-1.5398002], dtype=float32), 'logistic': array([0.17656434], dtype=float32), 'probabilities': array([0.8234357 , 0.17656435], dtype=float32), 'class_ids': array([0]), 'classes': array([b'0'], dtype=object), 'all_class_ids': array([0, 1], dtype=int32), 'all_classes': array([b'0', b'1'], dtype=object)}, {'logits': array([1.3134385], dtype=float32), 'logistic': array([0.78808796], dtype=float32), 'probabilities': array([0.21191204, 0.788088  ], dtype=float32), 'class_ids': array([1]), 'classes': array([b'1'], dtype=object), 'all_class_ids': array([0, 1], dtype=int32), 'all_classes': array([b'0', b'1'], dtype=object)}, {'logits': array([1.6160697], dtype=float32), 'logistic': array([0.83425236], dtype=float32), 'probabilities': array([0.16574763, 0.8342524 ], dtype=float32), 'class_ids': array([1]), 'classes': array([b'1'], dtype=object), 'all_class_ids': array([0, 1], dtype=int32), 'all_classes': array([b'0', b'1'], dtype=object)}, {'logits': array([1.0393014], dtype=float32), 'logistic': array([0.7387152], dtype=float32), 'probabilities': array([0.2612848, 0.7387152], dtype=float32), 'class_ids': array([1]), 'classes': array([b'1'], dtype=object), 'all_class_ids': array([0, 1], dtype=int32), 'all_classes': array([b'0', b'1'], dtype=object)}, {'logits': array([-2.7406445], dtype=float32), 'logistic': array([0.0606172], dtype=float32), 'probabilities': array([0.93938273, 0.06061719], dtype=float32), 'class_ids': array([0]), 'classes': array([b'0'], dtype=object), 'all_class_ids': array([0, 1], dtype=int32), 'all_classes': array([b'0', b'1'], dtype=object)}, {'logits': array([1.2651155], dtype=float32), 'logistic': array([0.77990544], dtype=float32), 'probabilities': array([0.22009452, 0.7799053 ], dtype=float32), 'class_ids': array([1]), 'classes': array([b'1'], dtype=object), 'all_class_ids': array([0, 1], dtype=int32), 'all_classes': array([b'0', b'1'], dtype=object)}, {'logits': array([0.62809336], dtype=float32), 'logistic': array([0.65205705], dtype=float32), 'probabilities': array([0.347943, 0.652057], dtype=float32), 'class_ids': array([1]), 'classes': array([b'1'], dtype=object), 'all_class_ids': array([0, 1], dtype=int32), 'all_classes': array([b'0', b'1'], dtype=object)}, {'logits': array([0.6615114], dtype=float32), 'logistic': array([0.65959984], dtype=float32), 'probabilities': array([0.34040016, 0.65959984], dtype=float32), 'class_ids': array([1]), 'classes': array([b'1'], dtype=object), 'all_class_ids': array([0, 1], dtype=int32), 'all_classes': array([b'0', b'1'], dtype=object)}, {'logits': array([-2.9910493], dtype=float32), 'logistic': array([0.04783188], dtype=float32), 'probabilities': array([0.9521681 , 0.04783188], dtype=float32), 'class_ids': array([0]), 'classes': array([b'0'], dtype=object), 'all_class_ids': array([0, 1], dtype=int32), 'all_classes': array([b'0', b'1'], dtype=object)}, {'logits': array([2.1881897], dtype=float32), 'logistic': array([0.8991839], dtype=float32), 'probabilities': array([0.10081609, 0.8991839 ], dtype=float32), 'class_ids': array([1]), 'classes': array([b'1'], dtype=object), 'all_class_ids': array([0, 1], dtype=int32), 'all_classes': array([b'0', b'1'], dtype=object)}, {'logits': array([0.516827], dtype=float32), 'logistic': array([0.6264055], dtype=float32), 'probabilities': array([0.37359446, 0.6264055 ], dtype=float32), 'class_ids': array([1]), 'classes': array([b'1'], dtype=object), 'all_class_ids': array([0, 1], dtype=int32), 'all_classes': array([b'0', b'1'], dtype=object)}, {'logits': array([-2.363565], dtype=float32), 'logistic': array([0.08599357], dtype=float32), 'probabilities': array([0.9140064 , 0.08599358], dtype=float32), 'class_ids': array([0]), 'classes': array([b'0'], dtype=object), 'all_class_ids': array([0, 1], dtype=int32), 'all_classes': array([b'0', b'1'], dtype=object)}, {'logits': array([0.47474205], dtype=float32), 'logistic': array([0.6165055], dtype=float32), 'probabilities': array([0.3834945, 0.6165055], dtype=float32), 'class_ids': array([1]), 'classes': array([b'1'], dtype=object), 'all_class_ids': array([0, 1], dtype=int32), 'all_classes': array([b'0', b'1'], dtype=object)}, {'logits': array([-2.33881], dtype=float32), 'logistic': array([0.08795933], dtype=float32), 'probabilities': array([0.9120407 , 0.08795934], dtype=float32), 'class_ids': array([0]), 'classes': array([b'0'], dtype=object), 'all_class_ids': array([0, 1], dtype=int32), 'all_classes': array([b'0', b'1'], dtype=object)}, {'logits': array([1.3329844], dtype=float32), 'logistic': array([0.79133385], dtype=float32), 'probabilities': array([0.20866613, 0.79133385], dtype=float32), 'class_ids': array([1]), 'classes': array([b'1'], dtype=object), 'all_class_ids': array([0, 1], dtype=int32), 'all_classes': array([b'0', b'1'], dtype=object)}, {'logits': array([0.07240189], dtype=float32), 'logistic': array([0.5180926], dtype=float32), 'probabilities': array([0.48190743, 0.5180926 ], dtype=float32), 'class_ids': array([1]), 'classes': array([b'1'], dtype=object), 'all_class_ids': array([0, 1], dtype=int32), 'all_classes': array([b'0', b'1'], dtype=object)}, {'logits': array([-2.2620835], dtype=float32), 'logistic': array([0.09431225], dtype=float32), 'probabilities': array([0.9056878 , 0.09431225], dtype=float32), 'class_ids': array([0]), 'classes': array([b'0'], dtype=object), 'all_class_ids': array([0, 1], dtype=int32), 'all_classes': array([b'0', b'1'], dtype=object)}, {'logits': array([-0.13401318], dtype=float32), 'logistic': array([0.46654677], dtype=float32), 'probabilities': array([0.5334532 , 0.46654674], dtype=float32), 'class_ids': array([0]), 'classes': array([b'0'], dtype=object), 'all_class_ids': array([0, 1], dtype=int32), 'all_classes': array([b'0', b'1'], dtype=object)}, {'logits': array([1.5383574], dtype=float32), 'logistic': array([0.8232258], dtype=float32), 'probabilities': array([0.17677417, 0.82322574], dtype=float32), 'class_ids': array([1]), 'classes': array([b'1'], dtype=object), 'all_class_ids': array([0, 1], dtype=int32), 'all_classes': array([b'0', b'1'], dtype=object)}, {'logits': array([-2.274724], dtype=float32), 'logistic': array([0.09323806], dtype=float32), 'probabilities': array([0.90676194, 0.09323806], dtype=float32), 'class_ids': array([0]), 'classes': array([b'0'], dtype=object), 'all_class_ids': array([0, 1], dtype=int32), 'all_classes': array([b'0', b'1'], dtype=object)}, {'logits': array([-2.3340316], dtype=float32), 'logistic': array([0.08834343], dtype=float32), 'probabilities': array([0.9116565 , 0.08834342], dtype=float32), 'class_ids': array([0]), 'classes': array([b'0'], dtype=object), 'all_class_ids': array([0, 1], dtype=int32), 'all_classes': array([b'0', b'1'], dtype=object)}, {'logits': array([0.62553513], dtype=float32), 'logistic': array([0.6514764], dtype=float32), 'probabilities': array([0.34852362, 0.6514764 ], dtype=float32), 'class_ids': array([1]), 'classes': array([b'1'], dtype=object), 'all_class_ids': array([0, 1], dtype=int32), 'all_classes': array([b'0', b'1'], dtype=object)}, {'logits': array([-2.008893], dtype=float32), 'logistic': array([0.11827237], dtype=float32), 'probabilities': array([0.88172764, 0.11827237], dtype=float32), 'class_ids': array([0]), 'classes': array([b'0'], dtype=object), 'all_class_ids': array([0, 1], dtype=int32), 'all_classes': array([b'0', b'1'], dtype=object)}, {'logits': array([-2.0665352], dtype=float32), 'logistic': array([0.11239222], dtype=float32), 'probabilities': array([0.88760775, 0.11239222], dtype=float32), 'class_ids': array([0]), 'classes': array([b'0'], dtype=object), 'all_class_ids': array([0, 1], dtype=int32), 'all_classes': array([b'0', b'1'], dtype=object)}, {'logits': array([-1.5744255], dtype=float32), 'logistic': array([0.17158642], dtype=float32), 'probabilities': array([0.8284136 , 0.17158644], dtype=float32), 'class_ids': array([0]), 'classes': array([b'0'], dtype=object), 'all_class_ids': array([0, 1], dtype=int32), 'all_classes': array([b'0', b'1'], dtype=object)}, {'logits': array([-2.6152534], dtype=float32), 'logistic': array([0.06816316], dtype=float32), 'probabilities': array([0.93183684, 0.06816316], dtype=float32), 'class_ids': array([0]), 'classes': array([b'0'], dtype=object), 'all_class_ids': array([0, 1], dtype=int32), 'all_classes': array([b'0', b'1'], dtype=object)}, {'logits': array([0.6115538], dtype=float32), 'logistic': array([0.64829516], dtype=float32), 'probabilities': array([0.3517048, 0.6482951], dtype=float32), 'class_ids': array([1]), 'classes': array([b'1'], dtype=object), 'all_class_ids': array([0, 1], dtype=int32), 'all_classes': array([b'0', b'1'], dtype=object)}, {'logits': array([-2.166264], dtype=float32), 'logistic': array([0.10282116], dtype=float32), 'probabilities': array([0.8971788 , 0.10282116], dtype=float32), 'class_ids': array([0]), 'classes': array([b'0'], dtype=object), 'all_class_ids': array([0, 1], dtype=int32), 'all_classes': array([b'0', b'1'], dtype=object)}, {'logits': array([-2.9607692], dtype=float32), 'logistic': array([0.04922999], dtype=float32), 'probabilities': array([0.95077   , 0.04922999], dtype=float32), 'class_ids': array([0]), 'classes': array([b'0'], dtype=object), 'all_class_ids': array([0, 1], dtype=int32), 'all_classes': array([b'0', b'1'], dtype=object)}, {'logits': array([-2.3910074], dtype=float32), 'logistic': array([0.083861], dtype=float32), 'probabilities': array([0.916139, 0.083861], dtype=float32), 'class_ids': array([0]), 'classes': array([b'0'], dtype=object), 'all_class_ids': array([0, 1], dtype=int32), 'all_classes': array([b'0', b'1'], dtype=object)}, {'logits': array([-2.1393933], dtype=float32), 'logistic': array([0.10532655], dtype=float32), 'probabilities': array([0.8946735 , 0.10532656], dtype=float32), 'class_ids': array([0]), 'classes': array([b'0'], dtype=object), 'all_class_ids': array([0, 1], dtype=int32), 'all_classes': array([b'0', b'1'], dtype=object)}, {'logits': array([-1.8729919], dtype=float32), 'logistic': array([0.1331959], dtype=float32), 'probabilities': array([0.866804 , 0.1331959], dtype=float32), 'class_ids': array([0]), 'classes': array([b'0'], dtype=object), 'all_class_ids': array([0, 1], dtype=int32), 'all_classes': array([b'0', b'1'], dtype=object)}, {'logits': array([-1.7053096], dtype=float32), 'logistic': array([0.15377307], dtype=float32), 'probabilities': array([0.8462269 , 0.15377305], dtype=float32), 'class_ids': array([0]), 'classes': array([b'0'], dtype=object), 'all_class_ids': array([0, 1], dtype=int32), 'all_classes': array([b'0', b'1'], dtype=object)}, {'logits': array([2.4746618], dtype=float32), 'logistic': array([0.9223463], dtype=float32), 'probabilities': array([0.07765368, 0.92234635], dtype=float32), 'class_ids': array([1]), 'classes': array([b'1'], dtype=object), 'all_class_ids': array([0, 1], dtype=int32), 'all_classes': array([b'0', b'1'], dtype=object)}, {'logits': array([-2.2919202], dtype=float32), 'logistic': array([0.09179434], dtype=float32), 'probabilities': array([0.90820557, 0.09179433], dtype=float32), 'class_ids': array([0]), 'classes': array([b'0'], dtype=object), 'all_class_ids': array([0, 1], dtype=int32), 'all_classes': array([b'0', b'1'], dtype=object)}, {'logits': array([-2.2215974], dtype=float32), 'logistic': array([0.09782773], dtype=float32), 'probabilities': array([0.90217215, 0.09782771], dtype=float32), 'class_ids': array([0]), 'classes': array([b'0'], dtype=object), 'all_class_ids': array([0, 1], dtype=int32), 'all_classes': array([b'0', b'1'], dtype=object)}, {'logits': array([0.75436485], dtype=float32), 'logistic': array([0.68012905], dtype=float32), 'probabilities': array([0.31987098, 0.68012905], dtype=float32), 'class_ids': array([1]), 'classes': array([b'1'], dtype=object), 'all_class_ids': array([0, 1], dtype=int32), 'all_classes': array([b'0', b'1'], dtype=object)}, {'logits': array([2.899147], dtype=float32), 'logistic': array([0.9478043], dtype=float32), 'probabilities': array([0.05219574, 0.9478042 ], dtype=float32), 'class_ids': array([1]), 'classes': array([b'1'], dtype=object), 'all_class_ids': array([0, 1], dtype=int32), 'all_classes': array([b'0', b'1'], dtype=object)}, {'logits': array([-2.2475686], dtype=float32), 'logistic': array([0.0955594], dtype=float32), 'probabilities': array([0.90444064, 0.0955594 ], dtype=float32), 'class_ids': array([0]), 'classes': array([b'0'], dtype=object), 'all_class_ids': array([0, 1], dtype=int32), 'all_classes': array([b'0', b'1'], dtype=object)}, {'logits': array([-2.0373812], dtype=float32), 'logistic': array([0.11533367], dtype=float32), 'probabilities': array([0.88466626, 0.11533365], dtype=float32), 'class_ids': array([0]), 'classes': array([b'0'], dtype=object), 'all_class_ids': array([0, 1], dtype=int32), 'all_classes': array([b'0', b'1'], dtype=object)}, {'logits': array([-2.3340316], dtype=float32), 'logistic': array([0.08834343], dtype=float32), 'probabilities': array([0.9116565 , 0.08834342], dtype=float32), 'class_ids': array([0]), 'classes': array([b'0'], dtype=object), 'all_class_ids': array([0, 1], dtype=int32), 'all_classes': array([b'0', b'1'], dtype=object)}, {'logits': array([-0.36448085], dtype=float32), 'logistic': array([0.4098753], dtype=float32), 'probabilities': array([0.59012467, 0.4098753 ], dtype=float32), 'class_ids': array([0]), 'classes': array([b'0'], dtype=object), 'all_class_ids': array([0, 1], dtype=int32), 'all_classes': array([b'0', b'1'], dtype=object)}, {'logits': array([-1.910932], dtype=float32), 'logistic': array([0.1288762], dtype=float32), 'probabilities': array([0.8711238, 0.1288762], dtype=float32), 'class_ids': array([0]), 'classes': array([b'0'], dtype=object), 'all_class_ids': array([0, 1], dtype=int32), 'all_classes': array([b'0', b'1'], dtype=object)}, {'logits': array([-1.748516], dtype=float32), 'logistic': array([0.14823447], dtype=float32), 'probabilities': array([0.8517656 , 0.14823449], dtype=float32), 'class_ids': array([0]), 'classes': array([b'0'], dtype=object), 'all_class_ids': array([0, 1], dtype=int32), 'all_classes': array([b'0', b'1'], dtype=object)}, {'logits': array([-2.648147], dtype=float32), 'logistic': array([0.06610331], dtype=float32), 'probabilities': array([0.9338967 , 0.06610331], dtype=float32), 'class_ids': array([0]), 'classes': array([b'0'], dtype=object), 'all_class_ids': array([0, 1], dtype=int32), 'all_classes': array([b'0', b'1'], dtype=object)}, {'logits': array([-1.7484908], dtype=float32), 'logistic': array([0.14823766], dtype=float32), 'probabilities': array([0.85176235, 0.14823765], dtype=float32), 'class_ids': array([0]), 'classes': array([b'0'], dtype=object), 'all_class_ids': array([0, 1], dtype=int32), 'all_classes': array([b'0', b'1'], dtype=object)}, {'logits': array([-2.295504], dtype=float32), 'logistic': array([0.091496], dtype=float32), 'probabilities': array([0.908504, 0.091496], dtype=float32), 'class_ids': array([0]), 'classes': array([b'0'], dtype=object), 'all_class_ids': array([0, 1], dtype=int32), 'all_classes': array([b'0', b'1'], dtype=object)}, {'logits': array([-1.5449475], dtype=float32), 'logistic': array([0.17581719], dtype=float32), 'probabilities': array([0.8241827 , 0.17581718], dtype=float32), 'class_ids': array([0]), 'classes': array([b'0'], dtype=object), 'all_class_ids': array([0, 1], dtype=int32), 'all_classes': array([b'0', b'1'], dtype=object)}, {'logits': array([-2.117495], dtype=float32), 'logistic': array([0.10740799], dtype=float32), 'probabilities': array([0.89259195, 0.10740798], dtype=float32), 'class_ids': array([0]), 'classes': array([b'0'], dtype=object), 'all_class_ids': array([0, 1], dtype=int32), 'all_classes': array([b'0', b'1'], dtype=object)}, {'logits': array([-0.77828336], dtype=float32), 'logistic': array([0.31469], dtype=float32), 'probabilities': array([0.68531007, 0.31469   ], dtype=float32), 'class_ids': array([0]), 'classes': array([b'0'], dtype=object), 'all_class_ids': array([0, 1], dtype=int32), 'all_classes': array([b'0', b'1'], dtype=object)}, {'logits': array([-1.5775874], dtype=float32), 'logistic': array([0.17113744], dtype=float32), 'probabilities': array([0.8288626 , 0.17113745], dtype=float32), 'class_ids': array([0]), 'classes': array([b'0'], dtype=object), 'all_class_ids': array([0, 1], dtype=int32), 'all_classes': array([b'0', b'1'], dtype=object)}, {'logits': array([-2.0572336], dtype=float32), 'logistic': array([0.11332351], dtype=float32), 'probabilities': array([0.8866765 , 0.11332351], dtype=float32), 'class_ids': array([0]), 'classes': array([b'0'], dtype=object), 'all_class_ids': array([0, 1], dtype=int32), 'all_classes': array([b'0', b'1'], dtype=object)}, {'logits': array([-1.4937868], dtype=float32), 'logistic': array([0.18335404], dtype=float32), 'probabilities': array([0.816646  , 0.18335404], dtype=float32), 'class_ids': array([0]), 'classes': array([b'0'], dtype=object), 'all_class_ids': array([0, 1], dtype=int32), 'all_classes': array([b'0', b'1'], dtype=object)}, {'logits': array([0.4299481], dtype=float32), 'logistic': array([0.6058613], dtype=float32), 'probabilities': array([0.3941387 , 0.60586125], dtype=float32), 'class_ids': array([1]), 'classes': array([b'1'], dtype=object), 'all_class_ids': array([0, 1], dtype=int32), 'all_classes': array([b'0', b'1'], dtype=object)}, {'logits': array([-1.7484908], dtype=float32), 'logistic': array([0.14823766], dtype=float32), 'probabilities': array([0.85176235, 0.14823765], dtype=float32), 'class_ids': array([0]), 'classes': array([b'0'], dtype=object), 'all_class_ids': array([0, 1], dtype=int32), 'all_classes': array([b'0', b'1'], dtype=object)}, {'logits': array([0.7550864], dtype=float32), 'logistic': array([0.680286], dtype=float32), 'probabilities': array([0.319714, 0.680286], dtype=float32), 'class_ids': array([1]), 'classes': array([b'1'], dtype=object), 'all_class_ids': array([0, 1], dtype=int32), 'all_classes': array([b'0', b'1'], dtype=object)}, {'logits': array([-2.0391111], dtype=float32), 'logistic': array([0.11515728], dtype=float32), 'probabilities': array([0.88484275, 0.11515728], dtype=float32), 'class_ids': array([0]), 'classes': array([b'0'], dtype=object), 'all_class_ids': array([0, 1], dtype=int32), 'all_classes': array([b'0', b'1'], dtype=object)}, {'logits': array([2.4790432], dtype=float32), 'logistic': array([0.9226596], dtype=float32), 'probabilities': array([0.07734044, 0.9226595 ], dtype=float32), 'class_ids': array([1]), 'classes': array([b'1'], dtype=object), 'all_class_ids': array([0, 1], dtype=int32), 'all_classes': array([b'0', b'1'], dtype=object)}, {'logits': array([1.0467962], dtype=float32), 'logistic': array([0.7401592], dtype=float32), 'probabilities': array([0.25984082, 0.7401592 ], dtype=float32), 'class_ids': array([1]), 'classes': array([b'1'], dtype=object), 'all_class_ids': array([0, 1], dtype=int32), 'all_classes': array([b'0', b'1'], dtype=object)}, {'logits': array([-2.4487305], dtype=float32), 'logistic': array([0.07953143], dtype=float32), 'probabilities': array([0.9204685 , 0.07953143], dtype=float32), 'class_ids': array([0]), 'classes': array([b'0'], dtype=object), 'all_class_ids': array([0, 1], dtype=int32), 'all_classes': array([b'0', b'1'], dtype=object)}, {'logits': array([2.4242535], dtype=float32), 'logistic': array([0.91865814], dtype=float32), 'probabilities': array([0.08134185, 0.91865814], dtype=float32), 'class_ids': array([1]), 'classes': array([b'1'], dtype=object), 'all_class_ids': array([0, 1], dtype=int32), 'all_classes': array([b'0', b'1'], dtype=object)}, {'logits': array([-2.1598115], dtype=float32), 'logistic': array([0.10341793], dtype=float32), 'probabilities': array([0.89658207, 0.10341793], dtype=float32), 'class_ids': array([0]), 'classes': array([b'0'], dtype=object), 'all_class_ids': array([0, 1], dtype=int32), 'all_classes': array([b'0', b'1'], dtype=object)}, {'logits': array([-1.7396307], dtype=float32), 'logistic': array([0.14935985], dtype=float32), 'probabilities': array([0.8506402 , 0.14935987], dtype=float32), 'class_ids': array([0]), 'classes': array([b'0'], dtype=object), 'all_class_ids': array([0, 1], dtype=int32), 'all_classes': array([b'0', b'1'], dtype=object)}, {'logits': array([2.7089558], dtype=float32), 'logistic': array([0.93755305], dtype=float32), 'probabilities': array([0.06244696, 0.9375531 ], dtype=float32), 'class_ids': array([1]), 'classes': array([b'1'], dtype=object), 'all_class_ids': array([0, 1], dtype=int32), 'all_classes': array([b'0', b'1'], dtype=object)}, {'logits': array([-2.163103], dtype=float32), 'logistic': array([0.10311311], dtype=float32), 'probabilities': array([0.89688694, 0.10311313], dtype=float32), 'class_ids': array([0]), 'classes': array([b'0'], dtype=object), 'all_class_ids': array([0, 1], dtype=int32), 'all_classes': array([b'0', b'1'], dtype=object)}, {'logits': array([1.0776551], dtype=float32), 'logistic': array([0.74604994], dtype=float32), 'probabilities': array([0.25395003, 0.74604994], dtype=float32), 'class_ids': array([1]), 'classes': array([b'1'], dtype=object), 'all_class_ids': array([0, 1], dtype=int32), 'all_classes': array([b'0', b'1'], dtype=object)}, {'logits': array([-2.3349526], dtype=float32), 'logistic': array([0.08826927], dtype=float32), 'probabilities': array([0.91173065, 0.08826927], dtype=float32), 'class_ids': array([0]), 'classes': array([b'0'], dtype=object), 'all_class_ids': array([0, 1], dtype=int32), 'all_classes': array([b'0', b'1'], dtype=object)}, {'logits': array([-0.99396265], dtype=float32), 'logistic': array([0.2701301], dtype=float32), 'probabilities': array([0.72986984, 0.27013007], dtype=float32), 'class_ids': array([0]), 'classes': array([b'0'], dtype=object), 'all_class_ids': array([0, 1], dtype=int32), 'all_classes': array([b'0', b'1'], dtype=object)}, {'logits': array([-2.7898407], dtype=float32), 'logistic': array([0.05787564], dtype=float32), 'probabilities': array([0.94212425, 0.05787563], dtype=float32), 'class_ids': array([0]), 'classes': array([b'0'], dtype=object), 'all_class_ids': array([0, 1], dtype=int32), 'all_classes': array([b'0', b'1'], dtype=object)}, {'logits': array([-2.008893], dtype=float32), 'logistic': array([0.11827237], dtype=float32), 'probabilities': array([0.88172764, 0.11827237], dtype=float32), 'class_ids': array([0]), 'classes': array([b'0'], dtype=object), 'all_class_ids': array([0, 1], dtype=int32), 'all_classes': array([b'0', b'1'], dtype=object)}, {'logits': array([0.52313507], dtype=float32), 'logistic': array([0.6278805], dtype=float32), 'probabilities': array([0.37211946, 0.6278806 ], dtype=float32), 'class_ids': array([1]), 'classes': array([b'1'], dtype=object), 'all_class_ids': array([0, 1], dtype=int32), 'all_classes': array([b'0', b'1'], dtype=object)}, {'logits': array([2.1314836], dtype=float32), 'logistic': array([0.8939258], dtype=float32), 'probabilities': array([0.10607421, 0.8939256 ], dtype=float32), 'class_ids': array([1]), 'classes': array([b'1'], dtype=object), 'all_class_ids': array([0, 1], dtype=int32), 'all_classes': array([b'0', b'1'], dtype=object)}, {'logits': array([-1.68872], dtype=float32), 'logistic': array([0.15594426], dtype=float32), 'probabilities': array([0.8440557 , 0.15594424], dtype=float32), 'class_ids': array([0]), 'classes': array([b'0'], dtype=object), 'all_class_ids': array([0, 1], dtype=int32), 'all_classes': array([b'0', b'1'], dtype=object)}, {'logits': array([-0.69149107], dtype=float32), 'logistic': array([0.33370146], dtype=float32), 'probabilities': array([0.6662985 , 0.33370143], dtype=float32), 'class_ids': array([0]), 'classes': array([b'0'], dtype=object), 'all_class_ids': array([0, 1], dtype=int32), 'all_classes': array([b'0', b'1'], dtype=object)}, {'logits': array([-2.1357844], dtype=float32), 'logistic': array([0.10566711], dtype=float32), 'probabilities': array([0.8943328 , 0.10566711], dtype=float32), 'class_ids': array([0]), 'classes': array([b'0'], dtype=object), 'all_class_ids': array([0, 1], dtype=int32), 'all_classes': array([b'0', b'1'], dtype=object)}, {'logits': array([-2.0865302], dtype=float32), 'logistic': array([0.11041293], dtype=float32), 'probabilities': array([0.88958704, 0.11041293], dtype=float32), 'class_ids': array([0]), 'classes': array([b'0'], dtype=object), 'all_class_ids': array([0, 1], dtype=int32), 'all_classes': array([b'0', b'1'], dtype=object)}, {'logits': array([-1.2472281], dtype=float32), 'logistic': array([0.22318032], dtype=float32), 'probabilities': array([0.7768196 , 0.22318031], dtype=float32), 'class_ids': array([0]), 'classes': array([b'0'], dtype=object), 'all_class_ids': array([0, 1], dtype=int32), 'all_classes': array([b'0', b'1'], dtype=object)}, {'logits': array([-1.4962283], dtype=float32), 'logistic': array([0.18298873], dtype=float32), 'probabilities': array([0.81701136, 0.18298875], dtype=float32), 'class_ids': array([0]), 'classes': array([b'0'], dtype=object), 'all_class_ids': array([0, 1], dtype=int32), 'all_classes': array([b'0', b'1'], dtype=object)}, {'logits': array([3.158946], dtype=float32), 'logistic': array([0.95925975], dtype=float32), 'probabilities': array([0.04074023, 0.9592598 ], dtype=float32), 'class_ids': array([1]), 'classes': array([b'1'], dtype=object), 'all_class_ids': array([0, 1], dtype=int32), 'all_classes': array([b'0', b'1'], dtype=object)}, {'logits': array([-0.0123999], dtype=float32), 'logistic': array([0.49690005], dtype=float32), 'probabilities': array([0.5030999 , 0.49690002], dtype=float32), 'class_ids': array([0]), 'classes': array([b'0'], dtype=object), 'all_class_ids': array([0, 1], dtype=int32), 'all_classes': array([b'0', b'1'], dtype=object)}, {'logits': array([-2.0785599], dtype=float32), 'logistic': array([0.11119822], dtype=float32), 'probabilities': array([0.88880175, 0.11119821], dtype=float32), 'class_ids': array([0]), 'classes': array([b'0'], dtype=object), 'all_class_ids': array([0, 1], dtype=int32), 'all_classes': array([b'0', b'1'], dtype=object)}, {'logits': array([-0.7797837], dtype=float32), 'logistic': array([0.3143665], dtype=float32), 'probabilities': array([0.6856335, 0.3143665], dtype=float32), 'class_ids': array([0]), 'classes': array([b'0'], dtype=object), 'all_class_ids': array([0, 1], dtype=int32), 'all_classes': array([b'0', b'1'], dtype=object)}, {'logits': array([0.75555944], dtype=float32), 'logistic': array([0.68038887], dtype=float32), 'probabilities': array([0.31961113, 0.68038887], dtype=float32), 'class_ids': array([1]), 'classes': array([b'1'], dtype=object), 'all_class_ids': array([0, 1], dtype=int32), 'all_classes': array([b'0', b'1'], dtype=object)}, {'logits': array([1.0339941], dtype=float32), 'logistic': array([0.7376895], dtype=float32), 'probabilities': array([0.2623105 , 0.73768955], dtype=float32), 'class_ids': array([1]), 'classes': array([b'1'], dtype=object), 'all_class_ids': array([0, 1], dtype=int32), 'all_classes': array([b'0', b'1'], dtype=object)}, {'logits': array([-1.3543329], dtype=float32), 'logistic': array([0.2051629], dtype=float32), 'probabilities': array([0.79483706, 0.2051629 ], dtype=float32), 'class_ids': array([0]), 'classes': array([b'0'], dtype=object), 'all_class_ids': array([0, 1], dtype=int32), 'all_classes': array([b'0', b'1'], dtype=object)}, {'logits': array([-0.704359], dtype=float32), 'logistic': array([0.3308465], dtype=float32), 'probabilities': array([0.66915345, 0.3308465 ], dtype=float32), 'class_ids': array([0]), 'classes': array([b'0'], dtype=object), 'all_class_ids': array([0, 1], dtype=int32), 'all_classes': array([b'0', b'1'], dtype=object)}, {'logits': array([-2.090373], dtype=float32), 'logistic': array([0.11003604], dtype=float32), 'probabilities': array([0.889964  , 0.11003605], dtype=float32), 'class_ids': array([0]), 'classes': array([b'0'], dtype=object), 'all_class_ids': array([0, 1], dtype=int32), 'all_classes': array([b'0', b'1'], dtype=object)}, {'logits': array([-1.655211], dtype=float32), 'logistic': array([0.16040592], dtype=float32), 'probabilities': array([0.839594 , 0.1604059], dtype=float32), 'class_ids': array([0]), 'classes': array([b'0'], dtype=object), 'all_class_ids': array([0, 1], dtype=int32), 'all_classes': array([b'0', b'1'], dtype=object)}, {'logits': array([1.7767168], dtype=float32), 'logistic': array([0.855291], dtype=float32), 'probabilities': array([0.144709 , 0.8552909], dtype=float32), 'class_ids': array([1]), 'classes': array([b'1'], dtype=object), 'all_class_ids': array([0, 1], dtype=int32), 'all_classes': array([b'0', b'1'], dtype=object)}, {'logits': array([-2.7082062], dtype=float32), 'logistic': array([0.06249086], dtype=float32), 'probabilities': array([0.9375092 , 0.06249087], dtype=float32), 'class_ids': array([0]), 'classes': array([b'0'], dtype=object), 'all_class_ids': array([0, 1], dtype=int32), 'all_classes': array([b'0', b'1'], dtype=object)}, {'logits': array([-2.234323], dtype=float32), 'logistic': array([0.09671033], dtype=float32), 'probabilities': array([0.9032897 , 0.09671033], dtype=float32), 'class_ids': array([0]), 'classes': array([b'0'], dtype=object), 'all_class_ids': array([0, 1], dtype=int32), 'all_classes': array([b'0', b'1'], dtype=object)}, {'logits': array([0.062863], dtype=float32), 'logistic': array([0.5157106], dtype=float32), 'probabilities': array([0.48428944, 0.5157106 ], dtype=float32), 'class_ids': array([1]), 'classes': array([b'1'], dtype=object), 'all_class_ids': array([0, 1], dtype=int32), 'all_classes': array([b'0', b'1'], dtype=object)}, {'logits': array([0.757401], dtype=float32), 'logistic': array([0.6807892], dtype=float32), 'probabilities': array([0.31921083, 0.68078923], dtype=float32), 'class_ids': array([1]), 'classes': array([b'1'], dtype=object), 'all_class_ids': array([0, 1], dtype=int32), 'all_classes': array([b'0', b'1'], dtype=object)}, {'logits': array([-0.970371], dtype=float32), 'logistic': array([0.27480656], dtype=float32), 'probabilities': array([0.72519344, 0.27480656], dtype=float32), 'class_ids': array([0]), 'classes': array([b'0'], dtype=object), 'all_class_ids': array([0, 1], dtype=int32), 'all_classes': array([b'0', b'1'], dtype=object)}, {'logits': array([-2.4860659], dtype=float32), 'logistic': array([0.07684081], dtype=float32), 'probabilities': array([0.92315906, 0.0768408 ], dtype=float32), 'class_ids': array([0]), 'classes': array([b'0'], dtype=object), 'all_class_ids': array([0, 1], dtype=int32), 'all_classes': array([b'0', b'1'], dtype=object)}, {'logits': array([-1.6630517], dtype=float32), 'logistic': array([0.15935276], dtype=float32), 'probabilities': array([0.84064734, 0.15935278], dtype=float32), 'class_ids': array([0]), 'classes': array([b'0'], dtype=object), 'all_class_ids': array([0, 1], dtype=int32), 'all_classes': array([b'0', b'1'], dtype=object)}, {'logits': array([-2.177501], dtype=float32), 'logistic': array([0.10178918], dtype=float32), 'probabilities': array([0.89821076, 0.10178918], dtype=float32), 'class_ids': array([0]), 'classes': array([b'0'], dtype=object), 'all_class_ids': array([0, 1], dtype=int32), 'all_classes': array([b'0', b'1'], dtype=object)}, {'logits': array([-2.7898407], dtype=float32), 'logistic': array([0.05787564], dtype=float32), 'probabilities': array([0.94212425, 0.05787563], dtype=float32), 'class_ids': array([0]), 'classes': array([b'0'], dtype=object), 'all_class_ids': array([0, 1], dtype=int32), 'all_classes': array([b'0', b'1'], dtype=object)}, {'logits': array([-2.3228664], dtype=float32), 'logistic': array([0.08924679], dtype=float32), 'probabilities': array([0.91075313, 0.08924679], dtype=float32), 'class_ids': array([0]), 'classes': array([b'0'], dtype=object), 'all_class_ids': array([0, 1], dtype=int32), 'all_classes': array([b'0', b'1'], dtype=object)}, {'logits': array([3.7004948], dtype=float32), 'logistic': array([0.9758846], dtype=float32), 'probabilities': array([0.02411538, 0.9758847 ], dtype=float32), 'class_ids': array([1]), 'classes': array([b'1'], dtype=object), 'all_class_ids': array([0, 1], dtype=int32), 'all_classes': array([b'0', b'1'], dtype=object)}, {'logits': array([1.1485302], dtype=float32), 'logistic': array([0.75924236], dtype=float32), 'probabilities': array([0.24075766, 0.7592424 ], dtype=float32), 'class_ids': array([1]), 'classes': array([b'1'], dtype=object), 'all_class_ids': array([0, 1], dtype=int32), 'all_classes': array([b'0', b'1'], dtype=object)}, {'logits': array([-2.2900987], dtype=float32), 'logistic': array([0.09194631], dtype=float32), 'probabilities': array([0.9080536, 0.0919463], dtype=float32), 'class_ids': array([0]), 'classes': array([b'0'], dtype=object), 'all_class_ids': array([0, 1], dtype=int32), 'all_classes': array([b'0', b'1'], dtype=object)}, {'logits': array([0.7858952], dtype=float32), 'logistic': array([0.68694925], dtype=float32), 'probabilities': array([0.31305072, 0.68694925], dtype=float32), 'class_ids': array([1]), 'classes': array([b'1'], dtype=object), 'all_class_ids': array([0, 1], dtype=int32), 'all_classes': array([b'0', b'1'], dtype=object)}, {'logits': array([-0.53540933], dtype=float32), 'logistic': array([0.3692561], dtype=float32), 'probabilities': array([0.6307438, 0.3692561], dtype=float32), 'class_ids': array([0]), 'classes': array([b'0'], dtype=object), 'all_class_ids': array([0, 1], dtype=int32), 'all_classes': array([b'0', b'1'], dtype=object)}, {'logits': array([-2.1804876], dtype=float32), 'logistic': array([0.10151644], dtype=float32), 'probabilities': array([0.8984836 , 0.10151645], dtype=float32), 'class_ids': array([0]), 'classes': array([b'0'], dtype=object), 'all_class_ids': array([0, 1], dtype=int32), 'all_classes': array([b'0', b'1'], dtype=object)}, {'logits': array([-2.0384846], dtype=float32), 'logistic': array([0.11522114], dtype=float32), 'probabilities': array([0.88477886, 0.11522114], dtype=float32), 'class_ids': array([0]), 'classes': array([b'0'], dtype=object), 'all_class_ids': array([0, 1], dtype=int32), 'all_classes': array([b'0', b'1'], dtype=object)}, {'logits': array([-1.667702], dtype=float32), 'logistic': array([0.1587308], dtype=float32), 'probabilities': array([0.84126914, 0.15873079], dtype=float32), 'class_ids': array([0]), 'classes': array([b'0'], dtype=object), 'all_class_ids': array([0, 1], dtype=int32), 'all_classes': array([b'0', b'1'], dtype=object)}, {'logits': array([-2.102468], dtype=float32), 'logistic': array([0.10885718], dtype=float32), 'probabilities': array([0.8911428 , 0.10885717], dtype=float32), 'class_ids': array([0]), 'classes': array([b'0'], dtype=object), 'all_class_ids': array([0, 1], dtype=int32), 'all_classes': array([b'0', b'1'], dtype=object)}, {'logits': array([0.7550117], dtype=float32), 'logistic': array([0.6802697], dtype=float32), 'probabilities': array([0.31973025, 0.6802697 ], dtype=float32), 'class_ids': array([1]), 'classes': array([b'1'], dtype=object), 'all_class_ids': array([0, 1], dtype=int32), 'all_classes': array([b'0', b'1'], dtype=object)}, {'logits': array([-2.300191], dtype=float32), 'logistic': array([0.09110714], dtype=float32), 'probabilities': array([0.9088928 , 0.09110714], dtype=float32), 'class_ids': array([0]), 'classes': array([b'0'], dtype=object), 'all_class_ids': array([0, 1], dtype=int32), 'all_classes': array([b'0', b'1'], dtype=object)}, {'logits': array([-0.06543946], dtype=float32), 'logistic': array([0.48364598], dtype=float32), 'probabilities': array([0.516354  , 0.48364598], dtype=float32), 'class_ids': array([0]), 'classes': array([b'0'], dtype=object), 'all_class_ids': array([0, 1], dtype=int32), 'all_classes': array([b'0', b'1'], dtype=object)}, {'logits': array([-0.4155057], dtype=float32), 'logistic': array([0.3975927], dtype=float32), 'probabilities': array([0.6024073, 0.3975927], dtype=float32), 'class_ids': array([0]), 'classes': array([b'0'], dtype=object), 'all_class_ids': array([0, 1], dtype=int32), 'all_classes': array([b'0', b'1'], dtype=object)}, {'logits': array([-2.4202423], dtype=float32), 'logistic': array([0.08164208], dtype=float32), 'probabilities': array([0.9183578 , 0.08164208], dtype=float32), 'class_ids': array([0]), 'classes': array([b'0'], dtype=object), 'all_class_ids': array([0, 1], dtype=int32), 'all_classes': array([b'0', b'1'], dtype=object)}, {'logits': array([-1.912437], dtype=float32), 'logistic': array([0.12870732], dtype=float32), 'probabilities': array([0.8712927 , 0.12870733], dtype=float32), 'class_ids': array([0]), 'classes': array([b'0'], dtype=object), 'all_class_ids': array([0, 1], dtype=int32), 'all_classes': array([b'0', b'1'], dtype=object)}, {'logits': array([1.21023], dtype=float32), 'logistic': array([0.77033967], dtype=float32), 'probabilities': array([0.22966036, 0.77033967], dtype=float32), 'class_ids': array([1]), 'classes': array([b'1'], dtype=object), 'all_class_ids': array([0, 1], dtype=int32), 'all_classes': array([b'0', b'1'], dtype=object)}, {'logits': array([-0.03300475], dtype=float32), 'logistic': array([0.49174955], dtype=float32), 'probabilities': array([0.5082504 , 0.49174953], dtype=float32), 'class_ids': array([0]), 'classes': array([b'0'], dtype=object), 'all_class_ids': array([0, 1], dtype=int32), 'all_classes': array([b'0', b'1'], dtype=object)}, {'logits': array([-2.0943575], dtype=float32), 'logistic': array([0.10964645], dtype=float32), 'probabilities': array([0.89035344, 0.10964644], dtype=float32), 'class_ids': array([0]), 'classes': array([b'0'], dtype=object), 'all_class_ids': array([0, 1], dtype=int32), 'all_classes': array([b'0', b'1'], dtype=object)}, {'logits': array([-0.7023703], dtype=float32), 'logistic': array([0.3312869], dtype=float32), 'probabilities': array([0.66871315, 0.33128694], dtype=float32), 'class_ids': array([0]), 'classes': array([b'0'], dtype=object), 'all_class_ids': array([0, 1], dtype=int32), 'all_classes': array([b'0', b'1'], dtype=object)}, {'logits': array([-1.2208524], dtype=float32), 'logistic': array([0.22778648], dtype=float32), 'probabilities': array([0.77221346, 0.22778647], dtype=float32), 'class_ids': array([0]), 'classes': array([b'0'], dtype=object), 'all_class_ids': array([0, 1], dtype=int32), 'all_classes': array([b'0', b'1'], dtype=object)}, {'logits': array([2.4148493], dtype=float32), 'logistic': array([0.91795266], dtype=float32), 'probabilities': array([0.08204734, 0.9179526 ], dtype=float32), 'class_ids': array([1]), 'classes': array([b'1'], dtype=object), 'all_class_ids': array([0, 1], dtype=int32), 'all_classes': array([b'0', b'1'], dtype=object)}, {'logits': array([2.2092729], dtype=float32), 'logistic': array([0.9010791], dtype=float32), 'probabilities': array([0.09892087, 0.9010791 ], dtype=float32), 'class_ids': array([1]), 'classes': array([b'1'], dtype=object), 'all_class_ids': array([0, 1], dtype=int32), 'all_classes': array([b'0', b'1'], dtype=object)}, {'logits': array([-1.9938171], dtype=float32), 'logistic': array([0.11985362], dtype=float32), 'probabilities': array([0.88014627, 0.11985361], dtype=float32), 'class_ids': array([0]), 'classes': array([b'0'], dtype=object), 'all_class_ids': array([0, 1], dtype=int32), 'all_classes': array([b'0', b'1'], dtype=object)}, {'logits': array([0.68386626], dtype=float32), 'logistic': array([0.664601], dtype=float32), 'probabilities': array([0.3353989, 0.664601 ], dtype=float32), 'class_ids': array([1]), 'classes': array([b'1'], dtype=object), 'all_class_ids': array([0, 1], dtype=int32), 'all_classes': array([b'0', b'1'], dtype=object)}, {'logits': array([-2.211418], dtype=float32), 'logistic': array([0.09872983], dtype=float32), 'probabilities': array([0.90127015, 0.09872983], dtype=float32), 'class_ids': array([0]), 'classes': array([b'0'], dtype=object), 'all_class_ids': array([0, 1], dtype=int32), 'all_classes': array([b'0', b'1'], dtype=object)}, {'logits': array([-1.748516], dtype=float32), 'logistic': array([0.14823447], dtype=float32), 'probabilities': array([0.8517656 , 0.14823449], dtype=float32), 'class_ids': array([0]), 'classes': array([b'0'], dtype=object), 'all_class_ids': array([0, 1], dtype=int32), 'all_classes': array([b'0', b'1'], dtype=object)}, {'logits': array([0.5033767], dtype=float32), 'logistic': array([0.6232526], dtype=float32), 'probabilities': array([0.37674746, 0.6232525 ], dtype=float32), 'class_ids': array([1]), 'classes': array([b'1'], dtype=object), 'all_class_ids': array([0, 1], dtype=int32), 'all_classes': array([b'0', b'1'], dtype=object)}, {'logits': array([-2.0089679], dtype=float32), 'logistic': array([0.11826456], dtype=float32), 'probabilities': array([0.88173544, 0.11826456], dtype=float32), 'class_ids': array([0]), 'classes': array([b'0'], dtype=object), 'all_class_ids': array([0, 1], dtype=int32), 'all_classes': array([b'0', b'1'], dtype=object)}, {'logits': array([2.6806574], dtype=float32), 'logistic': array([0.9358756], dtype=float32), 'probabilities': array([0.06412441, 0.9358756 ], dtype=float32), 'class_ids': array([1]), 'classes': array([b'1'], dtype=object), 'all_class_ids': array([0, 1], dtype=int32), 'all_classes': array([b'0', b'1'], dtype=object)}, {'logits': array([1.44281], dtype=float32), 'logistic': array([0.80888945], dtype=float32), 'probabilities': array([0.19111058, 0.80888945], dtype=float32), 'class_ids': array([1]), 'classes': array([b'1'], dtype=object), 'all_class_ids': array([0, 1], dtype=int32), 'all_classes': array([b'0', b'1'], dtype=object)}, {'logits': array([-2.253346], dtype=float32), 'logistic': array([0.09506124], dtype=float32), 'probabilities': array([0.90493876, 0.09506124], dtype=float32), 'class_ids': array([0]), 'classes': array([b'0'], dtype=object), 'all_class_ids': array([0, 1], dtype=int32), 'all_classes': array([b'0', b'1'], dtype=object)}, {'logits': array([0.71151865], dtype=float32), 'logistic': array([0.6707366], dtype=float32), 'probabilities': array([0.3292634, 0.6707367], dtype=float32), 'class_ids': array([1]), 'classes': array([b'1'], dtype=object), 'all_class_ids': array([0, 1], dtype=int32), 'all_classes': array([b'0', b'1'], dtype=object)}, {'logits': array([-2.0512993], dtype=float32), 'logistic': array([0.11392116], dtype=float32), 'probabilities': array([0.88607883, 0.11392115], dtype=float32), 'class_ids': array([0]), 'classes': array([b'0'], dtype=object), 'all_class_ids': array([0, 1], dtype=int32), 'all_classes': array([b'0', b'1'], dtype=object)}, {'logits': array([-1.150095], dtype=float32), 'logistic': array([0.24047172], dtype=float32), 'probabilities': array([0.75952816, 0.2404717 ], dtype=float32), 'class_ids': array([0]), 'classes': array([b'0'], dtype=object), 'all_class_ids': array([0, 1], dtype=int32), 'all_classes': array([b'0', b'1'], dtype=object)}, {'logits': array([-2.3119645], dtype=float32), 'logistic': array([0.0901369], dtype=float32), 'probabilities': array([0.909863  , 0.09013689], dtype=float32), 'class_ids': array([0]), 'classes': array([b'0'], dtype=object), 'all_class_ids': array([0, 1], dtype=int32), 'all_classes': array([b'0', b'1'], dtype=object)}, {'logits': array([0.71318626], dtype=float32), 'logistic': array([0.67110485], dtype=float32), 'probabilities': array([0.32889515, 0.6711048 ], dtype=float32), 'class_ids': array([1]), 'classes': array([b'1'], dtype=object), 'all_class_ids': array([0, 1], dtype=int32), 'all_classes': array([b'0', b'1'], dtype=object)}, {'logits': array([0.1284889], dtype=float32), 'logistic': array([0.5320781], dtype=float32), 'probabilities': array([0.46792182, 0.532078  ], dtype=float32), 'class_ids': array([1]), 'classes': array([b'1'], dtype=object), 'all_class_ids': array([0, 1], dtype=int32), 'all_classes': array([b'0', b'1'], dtype=object)}, {'logits': array([-2.7709098], dtype=float32), 'logistic': array([0.05891655], dtype=float32), 'probabilities': array([0.94108343, 0.05891655], dtype=float32), 'class_ids': array([0]), 'classes': array([b'0'], dtype=object), 'all_class_ids': array([0, 1], dtype=int32), 'all_classes': array([b'0', b'1'], dtype=object)}, {'logits': array([-1.532109], dtype=float32), 'logistic': array([0.17768532], dtype=float32), 'probabilities': array([0.8223146, 0.1776853], dtype=float32), 'class_ids': array([0]), 'classes': array([b'0'], dtype=object), 'all_class_ids': array([0, 1], dtype=int32), 'all_classes': array([b'0', b'1'], dtype=object)}, {'logits': array([1.243502], dtype=float32), 'logistic': array([0.776173], dtype=float32), 'probabilities': array([0.223827  , 0.77617306], dtype=float32), 'class_ids': array([1]), 'classes': array([b'1'], dtype=object), 'all_class_ids': array([0, 1], dtype=int32), 'all_classes': array([b'0', b'1'], dtype=object)}, {'logits': array([-0.51584446], dtype=float32), 'logistic': array([0.37382445], dtype=float32), 'probabilities': array([0.6261755 , 0.37382445], dtype=float32), 'class_ids': array([0]), 'classes': array([b'0'], dtype=object), 'all_class_ids': array([0, 1], dtype=int32), 'all_classes': array([b'0', b'1'], dtype=object)}, {'logits': array([1.8074156], dtype=float32), 'logistic': array([0.85904926], dtype=float32), 'probabilities': array([0.14095075, 0.8590492 ], dtype=float32), 'class_ids': array([1]), 'classes': array([b'1'], dtype=object), 'all_class_ids': array([0, 1], dtype=int32), 'all_classes': array([b'0', b'1'], dtype=object)}, {'logits': array([-0.6815421], dtype=float32), 'logistic': array([0.3359172], dtype=float32), 'probabilities': array([0.6640828, 0.3359172], dtype=float32), 'class_ids': array([0]), 'classes': array([b'0'], dtype=object), 'all_class_ids': array([0, 1], dtype=int32), 'all_classes': array([b'0', b'1'], dtype=object)}, {'logits': array([-2.1586053], dtype=float32), 'logistic': array([0.10352983], dtype=float32), 'probabilities': array([0.89647025, 0.10352983], dtype=float32), 'class_ids': array([0]), 'classes': array([b'0'], dtype=object), 'all_class_ids': array([0, 1], dtype=int32), 'all_classes': array([b'0', b'1'], dtype=object)}, {'logits': array([-2.1068735], dtype=float32), 'logistic': array([0.10843055], dtype=float32), 'probabilities': array([0.8915695 , 0.10843055], dtype=float32), 'class_ids': array([0]), 'classes': array([b'0'], dtype=object), 'all_class_ids': array([0, 1], dtype=int32), 'all_classes': array([b'0', b'1'], dtype=object)}, {'logits': array([-2.017004], dtype=float32), 'logistic': array([0.11742914], dtype=float32), 'probabilities': array([0.88257086, 0.11742914], dtype=float32), 'class_ids': array([0]), 'classes': array([b'0'], dtype=object), 'all_class_ids': array([0, 1], dtype=int32), 'all_classes': array([b'0', b'1'], dtype=object)}, {'logits': array([-3.646126], dtype=float32), 'logistic': array([0.02542853], dtype=float32), 'probabilities': array([0.9745714 , 0.02542853], dtype=float32), 'class_ids': array([0]), 'classes': array([b'0'], dtype=object), 'all_class_ids': array([0, 1], dtype=int32), 'all_classes': array([b'0', b'1'], dtype=object)}, {'logits': array([1.6115112], dtype=float32), 'logistic': array([0.8336211], dtype=float32), 'probabilities': array([0.1663789, 0.8336211], dtype=float32), 'class_ids': array([1]), 'classes': array([b'1'], dtype=object), 'all_class_ids': array([0, 1], dtype=int32), 'all_classes': array([b'0', b'1'], dtype=object)}, {'logits': array([0.877175], dtype=float32), 'logistic': array([0.7062365], dtype=float32), 'probabilities': array([0.29376352, 0.7062364 ], dtype=float32), 'class_ids': array([1]), 'classes': array([b'1'], dtype=object), 'all_class_ids': array([0, 1], dtype=int32), 'all_classes': array([b'0', b'1'], dtype=object)}, {'logits': array([-1.7484908], dtype=float32), 'logistic': array([0.14823766], dtype=float32), 'probabilities': array([0.85176235, 0.14823765], dtype=float32), 'class_ids': array([0]), 'classes': array([b'0'], dtype=object), 'all_class_ids': array([0, 1], dtype=int32), 'all_classes': array([b'0', b'1'], dtype=object)}, {'logits': array([-1.3181905], dtype=float32), 'logistic': array([0.21111952], dtype=float32), 'probabilities': array([0.7888804 , 0.21111949], dtype=float32), 'class_ids': array([0]), 'classes': array([b'0'], dtype=object), 'all_class_ids': array([0, 1], dtype=int32), 'all_classes': array([b'0', b'1'], dtype=object)}, {'logits': array([1.7543961], dtype=float32), 'logistic': array([0.8525064], dtype=float32), 'probabilities': array([0.14749357, 0.8525064 ], dtype=float32), 'class_ids': array([1]), 'classes': array([b'1'], dtype=object), 'all_class_ids': array([0, 1], dtype=int32), 'all_classes': array([b'0', b'1'], dtype=object)}, {'logits': array([-0.32603872], dtype=float32), 'logistic': array([0.4192048], dtype=float32), 'probabilities': array([0.5807952, 0.4192048], dtype=float32), 'class_ids': array([0]), 'classes': array([b'0'], dtype=object), 'all_class_ids': array([0, 1], dtype=int32), 'all_classes': array([b'0', b'1'], dtype=object)}, {'logits': array([-2.3253703], dtype=float32), 'logistic': array([0.08904349], dtype=float32), 'probabilities': array([0.91095656, 0.08904349], dtype=float32), 'class_ids': array([0]), 'classes': array([b'0'], dtype=object), 'all_class_ids': array([0, 1], dtype=int32), 'all_classes': array([b'0', b'1'], dtype=object)}, {'logits': array([1.5724876], dtype=float32), 'logistic': array([0.82813793], dtype=float32), 'probabilities': array([0.17186204, 0.8281379 ], dtype=float32), 'class_ids': array([1]), 'classes': array([b'1'], dtype=object), 'all_class_ids': array([0, 1], dtype=int32), 'all_classes': array([b'0', b'1'], dtype=object)}, {'logits': array([1.2353264], dtype=float32), 'logistic': array([0.7747495], dtype=float32), 'probabilities': array([0.22525054, 0.7747495 ], dtype=float32), 'class_ids': array([1]), 'classes': array([b'1'], dtype=object), 'all_class_ids': array([0, 1], dtype=int32), 'all_classes': array([b'0', b'1'], dtype=object)}, {'logits': array([-2.4773932], dtype=float32), 'logistic': array([0.07745828], dtype=float32), 'probabilities': array([0.9225416 , 0.07745827], dtype=float32), 'class_ids': array([0]), 'classes': array([b'0'], dtype=object), 'all_class_ids': array([0, 1], dtype=int32), 'all_classes': array([b'0', b'1'], dtype=object)}, {'logits': array([0.08451379], dtype=float32), 'logistic': array([0.5211159], dtype=float32), 'probabilities': array([0.47888407, 0.52111584], dtype=float32), 'class_ids': array([1]), 'classes': array([b'1'], dtype=object), 'all_class_ids': array([0, 1], dtype=int32), 'all_classes': array([b'0', b'1'], dtype=object)}, {'logits': array([-1.4682853], dtype=float32), 'logistic': array([0.18720336], dtype=float32), 'probabilities': array([0.81279665, 0.18720338], dtype=float32), 'class_ids': array([0]), 'classes': array([b'0'], dtype=object), 'all_class_ids': array([0, 1], dtype=int32), 'all_classes': array([b'0', b'1'], dtype=object)}, {'logits': array([-0.45938057], dtype=float32), 'logistic': array([0.38713276], dtype=float32), 'probabilities': array([0.61286724, 0.38713276], dtype=float32), 'class_ids': array([0]), 'classes': array([b'0'], dtype=object), 'all_class_ids': array([0, 1], dtype=int32), 'all_classes': array([b'0', b'1'], dtype=object)}]\n"
     ]
    }
   ],
   "source": [
    "result = list(linear_est.predict(eval_input_fn))\n",
    "print(result)"
   ]
  },
  {
   "cell_type": "code",
   "execution_count": 42,
   "id": "0facda64",
   "metadata": {},
   "outputs": [
    {
     "name": "stdout",
     "output_type": "stream",
     "text": [
      "INFO:tensorflow:Calling model_fn.\n",
      "INFO:tensorflow:Done calling model_fn.\n",
      "INFO:tensorflow:Graph was finalized.\n",
      "INFO:tensorflow:Restoring parameters from /tmp/tmposiy38xm/model.ckpt-200\n"
     ]
    },
    {
     "name": "stderr",
     "output_type": "stream",
     "text": [
      "2022-11-12 20:55:31.458602: I tensorflow/stream_executor/cuda/cuda_gpu_executor.cc:980] successful NUMA node read from SysFS had negative value (-1), but there must be at least one NUMA node, so returning NUMA node zero\n",
      "2022-11-12 20:55:31.460670: W tensorflow/core/common_runtime/gpu/gpu_device.cc:1934] Cannot dlopen some GPU libraries. Please make sure the missing libraries mentioned above are installed properly if you would like to use GPU. Follow the guide at https://www.tensorflow.org/install/gpu for how to download and setup the required libraries for your platform.\n",
      "Skipping registering GPU devices...\n"
     ]
    },
    {
     "name": "stdout",
     "output_type": "stream",
     "text": [
      "INFO:tensorflow:Running local_init_op.\n",
      "INFO:tensorflow:Done running local_init_op.\n",
      "sex                        female\n",
      "age                          58.0\n",
      "n_siblings_spouses              0\n",
      "parch                           0\n",
      "fare                        26.55\n",
      "class                       First\n",
      "deck                            C\n",
      "embark_town           Southampton\n",
      "alone                           y\n",
      "Name: 2, dtype: object\n",
      "1\n",
      "0.68609565\n"
     ]
    }
   ],
   "source": [
    "result = list(linear_est.predict(eval_input_fn))\n",
    "print(dfeval.loc[2])\n",
    "print(y_eval.loc[2])\n",
    "print(result[2]['probabilities'][1])"
   ]
  },
  {
   "cell_type": "code",
   "execution_count": 51,
   "id": "fd0337d4",
   "metadata": {},
   "outputs": [
    {
     "data": {
      "text/html": [
       "<div>\n",
       "<style scoped>\n",
       "    .dataframe tbody tr th:only-of-type {\n",
       "        vertical-align: middle;\n",
       "    }\n",
       "\n",
       "    .dataframe tbody tr th {\n",
       "        vertical-align: top;\n",
       "    }\n",
       "\n",
       "    .dataframe thead th {\n",
       "        text-align: right;\n",
       "    }\n",
       "</style>\n",
       "<table border=\"1\" class=\"dataframe\">\n",
       "  <thead>\n",
       "    <tr style=\"text-align: right;\">\n",
       "      <th></th>\n",
       "      <th>120</th>\n",
       "      <th>4</th>\n",
       "      <th>setosa</th>\n",
       "      <th>versicolor</th>\n",
       "      <th>virginica</th>\n",
       "    </tr>\n",
       "  </thead>\n",
       "  <tbody>\n",
       "    <tr>\n",
       "      <th>0</th>\n",
       "      <td>6.4</td>\n",
       "      <td>2.8</td>\n",
       "      <td>5.6</td>\n",
       "      <td>2.2</td>\n",
       "      <td>2</td>\n",
       "    </tr>\n",
       "    <tr>\n",
       "      <th>1</th>\n",
       "      <td>5.0</td>\n",
       "      <td>2.3</td>\n",
       "      <td>3.3</td>\n",
       "      <td>1.0</td>\n",
       "      <td>1</td>\n",
       "    </tr>\n",
       "    <tr>\n",
       "      <th>2</th>\n",
       "      <td>4.9</td>\n",
       "      <td>2.5</td>\n",
       "      <td>4.5</td>\n",
       "      <td>1.7</td>\n",
       "      <td>2</td>\n",
       "    </tr>\n",
       "    <tr>\n",
       "      <th>3</th>\n",
       "      <td>4.9</td>\n",
       "      <td>3.1</td>\n",
       "      <td>1.5</td>\n",
       "      <td>0.1</td>\n",
       "      <td>0</td>\n",
       "    </tr>\n",
       "    <tr>\n",
       "      <th>4</th>\n",
       "      <td>5.7</td>\n",
       "      <td>3.8</td>\n",
       "      <td>1.7</td>\n",
       "      <td>0.3</td>\n",
       "      <td>0</td>\n",
       "    </tr>\n",
       "  </tbody>\n",
       "</table>\n",
       "</div>"
      ],
      "text/plain": [
       "   120    4  setosa  versicolor  virginica\n",
       "0  6.4  2.8     5.6         2.2          2\n",
       "1  5.0  2.3     3.3         1.0          1\n",
       "2  4.9  2.5     4.5         1.7          2\n",
       "3  4.9  3.1     1.5         0.1          0\n",
       "4  5.7  3.8     1.7         0.3          0"
      ]
     },
     "execution_count": 51,
     "metadata": {},
     "output_type": "execute_result"
    }
   ],
   "source": [
    "from __future__ import absolute_import, division, print_function, unicode_literals\n",
    "import numpy as np\n",
    "import pandas as pd\n",
    "import matplotlib.pyplot as plt\n",
    "from IPython.display import clear_output\n",
    "from six.moves import urllib\n",
    "import tensorflow.compat as fc\n",
    "import tensorflow as tf\n",
    "CSV_COLUMN_NAMES = ['SepalLength', 'SepalWidth', 'PetalLength', 'PetalWidth', 'Species']\n",
    "SPECIES = ['Setosa', 'Versicolor', 'Virginica']\n",
    "#train_path = tf.keras.utils.get.file(\"iris_training.csv\")\n",
    "#test_path = tf.keras.utils.get.file(\"iris_test.csv\")\n",
    "#train = pd.read_csv(train_path, names=CSV_COLUMN_NAMES, header=0) \n",
    "#test = pd.read_csv(test_path, names=CSV_COLUMN_NAMES, header=0) \n",
    "train = pd.read_csv(\"iris_training.csv\") \n",
    "test = pd.read_csv(\"iris_test.csv\")\n",
    "train.head()\n"
   ]
  },
  {
   "cell_type": "code",
   "execution_count": null,
   "id": "9b7c8282",
   "metadata": {},
   "outputs": [],
   "source": []
  }
 ],
 "metadata": {
  "kernelspec": {
   "display_name": "Python 3 (ipykernel)",
   "language": "python",
   "name": "python3"
  },
  "language_info": {
   "codemirror_mode": {
    "name": "ipython",
    "version": 3
   },
   "file_extension": ".py",
   "mimetype": "text/x-python",
   "name": "python",
   "nbconvert_exporter": "python",
   "pygments_lexer": "ipython3",
   "version": "3.9.7"
  }
 },
 "nbformat": 4,
 "nbformat_minor": 5
}
